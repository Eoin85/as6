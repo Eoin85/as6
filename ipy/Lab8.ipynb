{
 "cells": [
  {
   "cell_type": "code",
   "execution_count": 12,
   "metadata": {
    "collapsed": false
   },
   "outputs": [
    {
     "name": "stdout",
     "output_type": "stream",
     "text": [
      "1,2,3\n",
      "4,5,6,\n",
      "7,8,9\n",
      "10,11,12\n"
     ]
    }
   ],
   "source": [
    "file =open(\"numbers.dat\",\"r\")\n",
    "num = file.read()\n",
    "file.close()\n",
    "print(num)"
   ]
  },
  {
   "cell_type": "code",
   "execution_count": 6,
   "metadata": {
    "collapsed": false
   },
   "outputs": [
    {
     "name": "stdout",
     "output_type": "stream",
     "text": [
      "1,2,3\n",
      "\n",
      "4,5,6,\n",
      "\n",
      "7,8,9\n",
      "\n",
      "10,11,12\n"
     ]
    }
   ],
   "source": [
    "with open(\"numbers.dat\",\"rt\") as f:\n",
    "    for item in f:\n",
    "        print(item)"
   ]
  },
  {
   "cell_type": "code",
   "execution_count": 7,
   "metadata": {
    "collapsed": false
   },
   "outputs": [
    {
     "name": "stdout",
     "output_type": "stream",
     "text": [
      "1,2,3\n",
      "4,5,6,\n",
      "7,8,9\n",
      "10,11,12"
     ]
    }
   ],
   "source": [
    "with open(\"numbers.dat\",\"rt\") as f:\n",
    "    for item in f:\n",
    "        print(item, end =\"\")"
   ]
  },
  {
   "cell_type": "code",
   "execution_count": 8,
   "metadata": {
    "collapsed": false
   },
   "outputs": [
    {
     "name": "stdout",
     "output_type": "stream",
     "text": [
      "1,2,3\n",
      "4,5,6,\n",
      "7,8,9\n",
      "10,11,12\n"
     ]
    }
   ],
   "source": [
    "with open(\"numbers.dat\",\"r\") as f:\n",
    "    for item in f:\n",
    "        print(item.strip('\\n'))"
   ]
  },
  {
   "cell_type": "code",
   "execution_count": 14,
   "metadata": {
    "collapsed": false
   },
   "outputs": [
    {
     "name": "stdout",
     "output_type": "stream",
     "text": [
      "1,2,3\n",
      "\n",
      "4,5,6,\n",
      "\n",
      "7,8,9\n",
      "\n",
      "10,11,12\n"
     ]
    }
   ],
   "source": [
    "with open(\"numbers.dat\",\"rt\") as f:\n",
    "    for item in f.readlines():\n",
    "        print(item)"
   ]
  },
  {
   "cell_type": "code",
   "execution_count": 15,
   "metadata": {
    "collapsed": false
   },
   "outputs": [
    {
     "name": "stdout",
     "output_type": "stream",
     "text": [
      "1\n",
      ",\n",
      "2\n",
      ",\n",
      "3\n",
      "\n",
      "\n",
      "4\n",
      ",\n",
      "5\n",
      ",\n",
      "6\n",
      ",\n",
      "\n",
      "\n",
      "7\n",
      ",\n",
      "8\n",
      ",\n",
      "9\n",
      "\n",
      "\n",
      "1\n",
      "0\n",
      ",\n",
      "1\n",
      "1\n",
      ",\n",
      "1\n",
      "2\n"
     ]
    }
   ],
   "source": [
    "with open(\"numbers.dat\",\"rt\") as f:\n",
    "    for item in f.read():\n",
    "        print(item)"
   ]
  },
  {
   "cell_type": "code",
   "execution_count": 21,
   "metadata": {
    "collapsed": false
   },
   "outputs": [
    {
     "name": "stdout",
     "output_type": "stream",
     "text": [
      "['1', '2', '3']\n",
      "['4', '5', '6', '']\n",
      "['7', '8', '9']\n",
      "['10', '11', '12']\n"
     ]
    }
   ],
   "source": [
    "result = 0\n",
    "with open(\"numbers.dat\",\"rt\") as f:\n",
    "    for item in f:\n",
    "        numbers = item.strip().split(\",\")\n",
    "        print(numbers)"
   ]
  },
  {
   "cell_type": "code",
   "execution_count": 23,
   "metadata": {
    "collapsed": false
   },
   "outputs": [
    {
     "name": "stdout",
     "output_type": "stream",
     "text": [
      "['1', '2', '3']\n"
     ]
    },
    {
     "ename": "ValueError",
     "evalue": "invalid literal for int() with base 10: ''",
     "output_type": "error",
     "traceback": [
      "\u001b[1;31m---------------------------------------------------------------------------\u001b[0m",
      "\u001b[1;31mValueError\u001b[0m                                Traceback (most recent call last)",
      "\u001b[1;32m<ipython-input-23-4439b60a09e5>\u001b[0m in \u001b[0;36m<module>\u001b[1;34m()\u001b[0m\n\u001b[0;32m      4\u001b[0m         \u001b[0mnumbers\u001b[0m \u001b[1;33m=\u001b[0m \u001b[0mitem\u001b[0m\u001b[1;33m.\u001b[0m\u001b[0mstrip\u001b[0m\u001b[1;33m(\u001b[0m\u001b[1;33m)\u001b[0m\u001b[1;33m.\u001b[0m\u001b[0msplit\u001b[0m\u001b[1;33m(\u001b[0m\u001b[1;34m','\u001b[0m\u001b[1;33m)\u001b[0m\u001b[1;33m\u001b[0m\u001b[0m\n\u001b[0;32m      5\u001b[0m         \u001b[1;32mfor\u001b[0m \u001b[0mnum\u001b[0m \u001b[1;32min\u001b[0m \u001b[0mnumbers\u001b[0m\u001b[1;33m:\u001b[0m\u001b[1;33m\u001b[0m\u001b[0m\n\u001b[1;32m----> 6\u001b[1;33m             \u001b[0mresult\u001b[0m \u001b[1;33m+=\u001b[0m \u001b[0mint\u001b[0m\u001b[1;33m(\u001b[0m\u001b[0mnum\u001b[0m\u001b[1;33m)\u001b[0m\u001b[1;33m\u001b[0m\u001b[0m\n\u001b[0m\u001b[0;32m      7\u001b[0m         \u001b[0mprint\u001b[0m\u001b[1;33m(\u001b[0m\u001b[0mnumbers\u001b[0m\u001b[1;33m)\u001b[0m\u001b[1;33m\u001b[0m\u001b[0m\n",
      "\u001b[1;31mValueError\u001b[0m: invalid literal for int() with base 10: ''"
     ]
    }
   ],
   "source": [
    "result = 0\n",
    "with open(\"numbers.dat\",\"r\") as f:\n",
    "    for item in f.readlines():\n",
    "        numbers = item.strip().split(',')\n",
    "        for num in numbers:\n",
    "            result += int(num)\n",
    "        print(numbers)"
   ]
  },
  {
   "cell_type": "code",
   "execution_count": null,
   "metadata": {
    "collapsed": true
   },
   "outputs": [],
   "source": []
  }
 ],
 "metadata": {
  "kernelspec": {
   "display_name": "Python [default]",
   "language": "python",
   "name": "python3"
  },
  "language_info": {
   "codemirror_mode": {
    "name": "ipython",
    "version": 3
   },
   "file_extension": ".py",
   "mimetype": "text/x-python",
   "name": "python",
   "nbconvert_exporter": "python",
   "pygments_lexer": "ipython3",
   "version": "3.5.2"
  }
 },
 "nbformat": 4,
 "nbformat_minor": 0
}
