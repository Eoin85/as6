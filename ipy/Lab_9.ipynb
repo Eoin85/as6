{
 "cells": [
  {
   "cell_type": "code",
   "execution_count": 5,
   "metadata": {
    "collapsed": false
   },
   "outputs": [
    {
     "name": "stdout",
     "output_type": "stream",
     "text": [
      "49\n",
      "44\n",
      "50\n",
      "44\n",
      "51\n",
      "10\n",
      "52\n",
      "44\n",
      "53\n",
      "44\n",
      "54\n",
      "44\n",
      "10\n",
      "55\n",
      "44\n",
      "56\n",
      "44\n",
      "57\n",
      "10\n",
      "49\n",
      "48\n",
      "44\n",
      "49\n",
      "49\n",
      "44\n",
      "49\n",
      "50\n"
     ]
    }
   ],
   "source": [
    "with open (\"numbers.dat\", \"r\") as f:\n",
    "    for line in f:\n",
    "        for letter in line:\n",
    "            print(ord(letter))"
   ]
  },
  {
   "cell_type": "code",
   "execution_count": 14,
   "metadata": {
    "collapsed": false
   },
   "outputs": [
    {
     "data": {
      "text/plain": [
       "[49,\n",
       " 44,\n",
       " 50,\n",
       " 44,\n",
       " 51,\n",
       " 10,\n",
       " 52,\n",
       " 44,\n",
       " 53,\n",
       " 44,\n",
       " 54,\n",
       " 44,\n",
       " 10,\n",
       " 55,\n",
       " 44,\n",
       " 56,\n",
       " 44,\n",
       " 57,\n",
       " 10,\n",
       " 49,\n",
       " 48,\n",
       " 44,\n",
       " 49,\n",
       " 49,\n",
       " 44,\n",
       " 49,\n",
       " 50]"
      ]
     },
     "execution_count": 14,
     "metadata": {},
     "output_type": "execute_result"
    }
   ],
   "source": [
    "asci_vals = []\n",
    "with open (\"numbers.dat\", \"r\") as f:\n",
    "    for line in f:\n",
    "        for letter in line:\n",
    "            asci_vals.append(ord(letter))\n",
    "\n",
    "asci_vals"
   ]
  },
  {
   "cell_type": "code",
   "execution_count": 4,
   "metadata": {
    "collapsed": false
   },
   "outputs": [
    {
     "data": {
      "text/plain": [
       "'one\\ntwo\\nthree'"
      ]
     },
     "execution_count": 4,
     "metadata": {},
     "output_type": "execute_result"
    }
   ],
   "source": [
    "words = '''one\n",
    "two\n",
    "three'''\n",
    "words"
   ]
  },
  {
   "cell_type": "code",
   "execution_count": 7,
   "metadata": {
    "collapsed": false
   },
   "outputs": [
    {
     "name": "stdout",
     "output_type": "stream",
     "text": [
      "o-n-e-t-w-o-t-h-r-e-e-"
     ]
    }
   ],
   "source": [
    "for letter in words:\n",
    "    if letter not in ' \\n,':\n",
    "            print(letter, end ='-')"
   ]
  },
  {
   "cell_type": "code",
   "execution_count": 3,
   "metadata": {
    "collapsed": false
   },
   "outputs": [
    {
     "data": {
      "text/plain": [
       "[111, 1110, 1001, 10, 116, 119, 111, 10, 116, 104, 114, 101, 101]"
      ]
     },
     "execution_count": 3,
     "metadata": {},
     "output_type": "execute_result"
    }
   ],
   "source": [
    "asci_vals = [111,1110,1001,10,116,119,111,10,116,104,114,101,101]\n",
    "asci_vals"
   ]
  },
  {
   "cell_type": "code",
   "execution_count": 8,
   "metadata": {
    "collapsed": false
   },
   "outputs": [
    {
     "name": "stdout",
     "output_type": "stream",
     "text": [
      "[1, 2, 3, 4]\n"
     ]
    }
   ],
   "source": [
    "n = [1,2,3,4]\n",
    "print(n)"
   ]
  },
  {
   "cell_type": "code",
   "execution_count": 10,
   "metadata": {
    "collapsed": false
   },
   "outputs": [
    {
     "name": "stdout",
     "output_type": "stream",
     "text": [
      "[1, 2, 3, 4, 5]\n"
     ]
    }
   ],
   "source": [
    "n.append(5)\n",
    "print(n)"
   ]
  },
  {
   "cell_type": "code",
   "execution_count": 12,
   "metadata": {
    "collapsed": false
   },
   "outputs": [
    {
     "data": {
      "text/plain": [
       "['o', 'n', 'e', 't', 'w', 'o', 't', 'h', 'r', 'e', 'e']"
      ]
     },
     "execution_count": 12,
     "metadata": {},
     "output_type": "execute_result"
    }
   ],
   "source": [
    "cleaned = []\n",
    "spc_nl_comma = ' \\n,'\n",
    "for letter in words:\n",
    "    if letter not in spc_nl_comma:\n",
    "        cleaned.append(letter)\n",
    "cleaned"
   ]
  },
  {
   "cell_type": "code",
   "execution_count": 13,
   "metadata": {
    "collapsed": false
   },
   "outputs": [
    {
     "data": {
      "text/plain": [
       "'onetwothree'"
      ]
     },
     "execution_count": 13,
     "metadata": {},
     "output_type": "execute_result"
    }
   ],
   "source": [
    "cleaned = []\n",
    "spc_nl_comma = ' \\n,'\n",
    "for letter in words:\n",
    "    if letter not in spc_nl_comma:\n",
    "        cleaned.append(letter)\n",
    "cleaned\n",
    "''.join(cleaned)"
   ]
  },
  {
   "cell_type": "code",
   "execution_count": 18,
   "metadata": {
    "collapsed": false
   },
   "outputs": [
    {
     "name": "stdout",
     "output_type": "stream",
     "text": [
      "1,2,3\n",
      "\n",
      "4,5,6\n",
      "\n",
      "7,8,9\n",
      "\n",
      "10,11,12\n"
     ]
    }
   ],
   "source": [
    "with open (\"numbers.dat\", \"r\") as f:\n",
    "    for item in f:\n",
    "            print(item)"
   ]
  },
  {
   "cell_type": "code",
   "execution_count": 19,
   "metadata": {
    "collapsed": false
   },
   "outputs": [
    {
     "name": "stdout",
     "output_type": "stream",
     "text": [
      "['1', '2', '3']\n",
      "['4', '5', '6']\n",
      "['7', '8', '9']\n",
      "['10', '11', '12']\n"
     ]
    }
   ],
   "source": [
    "with open (\"numbers.dat\", \"r\") as f:\n",
    "    for item in f:\n",
    "            print(item.strip().split(','))"
   ]
  },
  {
   "cell_type": "code",
   "execution_count": 22,
   "metadata": {
    "collapsed": false
   },
   "outputs": [
    {
     "name": "stdout",
     "output_type": "stream",
     "text": [
      "a is 3, b is 4\n"
     ]
    }
   ],
   "source": [
    "a,b = 3,4\n",
    "print(\"a is {0}, b is {1}\".format(a,b))"
   ]
  },
  {
   "cell_type": "code",
   "execution_count": 23,
   "metadata": {
    "collapsed": false
   },
   "outputs": [
    {
     "name": "stdout",
     "output_type": "stream",
     "text": [
      "a is 3 , b is 4\n"
     ]
    }
   ],
   "source": [
    "print(\"a is\" , a, \", b is\",b)"
   ]
  },
  {
   "cell_type": "code",
   "execution_count": null,
   "metadata": {
    "collapsed": true
   },
   "outputs": [],
   "source": [
    "with open (\"numbers.dat\", \"r\") as f:\n",
    "    for item in f:\n",
    "        a,b,c =print(item.strip().split(','))"
   ]
  }
 ],
 "metadata": {
  "kernelspec": {
   "display_name": "Python 2",
   "language": "python",
   "name": "python2"
  },
  "language_info": {
   "codemirror_mode": {
    "name": "ipython",
    "version": 2
   },
   "file_extension": ".py",
   "mimetype": "text/x-python",
   "name": "python",
   "nbconvert_exporter": "python",
   "pygments_lexer": "ipython2",
   "version": "2.7.13"
  }
 },
 "nbformat": 4,
 "nbformat_minor": 0
}
