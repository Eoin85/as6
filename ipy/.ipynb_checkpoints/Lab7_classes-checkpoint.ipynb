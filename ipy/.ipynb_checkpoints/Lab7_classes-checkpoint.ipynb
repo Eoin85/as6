{
 "cells": [
  {
   "cell_type": "code",
   "execution_count": 1,
   "metadata": {
    "collapsed": false
   },
   "outputs": [
    {
     "ename": "SyntaxError",
     "evalue": "invalid syntax (<ipython-input-1-01f52e93817c>, line 2)",
     "output_type": "error",
     "traceback": [
      "\u001b[1;36m  File \u001b[1;32m\"<ipython-input-1-01f52e93817c>\"\u001b[1;36m, line \u001b[1;32m2\u001b[0m\n\u001b[1;33m    def _init_(self,sound)\u001b[0m\n\u001b[1;37m                          ^\u001b[0m\n\u001b[1;31mSyntaxError\u001b[0m\u001b[1;31m:\u001b[0m invalid syntax\n"
     ]
    }
   ],
   "source": [
    "class Animal():\n",
    "    def _init_(self,sound)\n",
    "    self.sound = sound\n",
    "    \n",
    "    def speak(self):\n",
    "        return self.sound\n",
    "\n",
    "s = Animal(\"Woof\")"
   ]
  },
  {
   "cell_type": "code",
   "execution_count": 4,
   "metadata": {
    "collapsed": false
   },
   "outputs": [
    {
     "ename": "TypeError",
     "evalue": "object() takes no parameters",
     "output_type": "error",
     "traceback": [
      "\u001b[1;31m---------------------------------------------------------------------------\u001b[0m",
      "\u001b[1;31mTypeError\u001b[0m                                 Traceback (most recent call last)",
      "\u001b[1;32m<ipython-input-4-3a6c1abce262>\u001b[0m in \u001b[0;36m<module>\u001b[1;34m()\u001b[0m\n\u001b[0;32m      6\u001b[0m         \u001b[1;32mreturn\u001b[0m \u001b[0mself\u001b[0m\u001b[1;33m.\u001b[0m\u001b[0msound\u001b[0m\u001b[1;33m\u001b[0m\u001b[0m\n\u001b[0;32m      7\u001b[0m \u001b[1;33m\u001b[0m\u001b[0m\n\u001b[1;32m----> 8\u001b[1;33m \u001b[0ma\u001b[0m \u001b[1;33m=\u001b[0m \u001b[0mAnimal\u001b[0m\u001b[1;33m(\u001b[0m\u001b[1;34m\"Woof\"\u001b[0m\u001b[1;33m)\u001b[0m\u001b[1;33m\u001b[0m\u001b[0m\n\u001b[0m",
      "\u001b[1;31mTypeError\u001b[0m: object() takes no parameters"
     ]
    }
   ],
   "source": [
    "class Animal():\n",
    "    def _init_(self,sound):\n",
    "        self.sound = sound\n",
    "    \n",
    "    def speak(self):\n",
    "        return self.sound\n",
    "\n",
    "a = Animal(\"Woof\")"
   ]
  },
  {
   "cell_type": "code",
   "execution_count": 12,
   "metadata": {
    "collapsed": false
   },
   "outputs": [],
   "source": [
    "class Animal():\n",
    "    def _init_(self,sound):\n",
    "        self.sound = sound\n",
    "    \n",
    "    def getsound(self):\n",
    "        return self.sound"
   ]
  },
  {
   "cell_type": "code",
   "execution_count": 13,
   "metadata": {
    "collapsed": false
   },
   "outputs": [
    {
     "ename": "NameError",
     "evalue": "name 'a1' is not defined",
     "output_type": "error",
     "traceback": [
      "\u001b[1;31m---------------------------------------------------------------------------\u001b[0m",
      "\u001b[1;31mNameError\u001b[0m                                 Traceback (most recent call last)",
      "\u001b[1;32m<ipython-input-13-10c9d00febd4>\u001b[0m in \u001b[0;36m<module>\u001b[1;34m()\u001b[0m\n\u001b[1;32m----> 1\u001b[1;33m \u001b[0ma1\u001b[0m\u001b[1;33m.\u001b[0m\u001b[0mgetsound\u001b[0m\u001b[1;33m(\u001b[0m\u001b[1;33m)\u001b[0m\u001b[1;33m\u001b[0m\u001b[0m\n\u001b[0m",
      "\u001b[1;31mNameError\u001b[0m: name 'a1' is not defined"
     ]
    }
   ],
   "source": [
    "a1.getsound()"
   ]
  },
  {
   "cell_type": "code",
   "execution_count": 19,
   "metadata": {
    "collapsed": false
   },
   "outputs": [
    {
     "name": "stdout",
     "output_type": "stream",
     "text": [
      "Woof\n",
      "Roar\n"
     ]
    }
   ],
   "source": [
    "class Animal():\n",
    "    def __init__(self,sound):\n",
    "        self.sound = sound\n",
    "    \n",
    "    def getsound(self):\n",
    "        return self.sound\n",
    "    \n",
    "a1 = Animal(\"Woof\")\n",
    "a2 = Animal(\"Roar\")\n",
    "\n",
    "print(a1.getsound())\n",
    "print(a2.getsound())"
   ]
  },
  {
   "cell_type": "code",
   "execution_count": 21,
   "metadata": {
    "collapsed": false
   },
   "outputs": [
    {
     "name": "stdout",
     "output_type": "stream",
     "text": [
      "Woof!!\n",
      "Woof!!\n",
      "Woof!!\n",
      "None\n",
      "Roar!!\n",
      "Roar!!\n",
      "Roar!!\n",
      "None\n"
     ]
    }
   ],
   "source": [
    "class Animal():\n",
    "    def __init__(self,sound):\n",
    "        self.sound = sound\n",
    "    \n",
    "    def getsound(self):\n",
    "        i = 3\n",
    "        while i > 0:\n",
    "            print(self.sound)\n",
    "            i -=1\n",
    "        \n",
    "    \n",
    "a1 = Animal(\"Woof!!\")\n",
    "a2 = Animal(\"Roar!!\")\n",
    "\n",
    "print(a1.getsound())\n",
    "print(a2.getsound())"
   ]
  },
  {
   "cell_type": "code",
   "execution_count": 24,
   "metadata": {
    "collapsed": false
   },
   "outputs": [
    {
     "name": "stdout",
     "output_type": "stream",
     "text": [
      "Meaow!!\n",
      "Meaow!!\n",
      "Meaow!!\n",
      "I can't speak anymore\n"
     ]
    }
   ],
   "source": [
    "class Animal():\n",
    "    def __init__(self,sound):\n",
    "        self.sound = sound\n",
    "        self.number_of_barks = 3\n",
    "    \n",
    "    def getsound(self):\n",
    "        if self.number_of_barks > 0:\n",
    "            self.number_of_barks -= 1\n",
    "            return self.sound\n",
    "        else:\n",
    "            return \"I can't speak anymore\"\n",
    "       \n",
    "        \n",
    "cat = Animal(\"Meaow!!\")\n",
    "print(cat.getsound())\n",
    "print(cat.getsound())\n",
    "print(cat.getsound())\n",
    "print(cat.getsound())"
   ]
  },
  {
   "cell_type": "code",
   "execution_count": null,
   "metadata": {
    "collapsed": true
   },
   "outputs": [],
   "source": []
  }
 ],
 "metadata": {
  "kernelspec": {
   "display_name": "Python [default]",
   "language": "python",
   "name": "python3"
  },
  "language_info": {
   "codemirror_mode": {
    "name": "ipython",
    "version": 3
   },
   "file_extension": ".py",
   "mimetype": "text/x-python",
   "name": "python",
   "nbconvert_exporter": "python",
   "pygments_lexer": "ipython3",
   "version": "3.5.2"
  }
 },
 "nbformat": 4,
 "nbformat_minor": 0
}
