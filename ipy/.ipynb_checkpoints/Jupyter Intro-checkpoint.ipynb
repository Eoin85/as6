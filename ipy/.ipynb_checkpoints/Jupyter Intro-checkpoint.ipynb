{
 "cells": [
  {
   "cell_type": "code",
   "execution_count": 1,
   "metadata": {
    "collapsed": false
   },
   "outputs": [
    {
     "data": {
      "text/plain": [
       "2"
      ]
     },
     "execution_count": 1,
     "metadata": {},
     "output_type": "execute_result"
    }
   ],
   "source": [
    "1+1"
   ]
  },
  {
   "cell_type": "code",
   "execution_count": 2,
   "metadata": {
    "collapsed": false
   },
   "outputs": [
    {
     "data": {
      "text/plain": [
       "10"
      ]
     },
     "execution_count": 2,
     "metadata": {},
     "output_type": "execute_result"
    }
   ],
   "source": [
    "2*5"
   ]
  },
  {
   "cell_type": "code",
   "execution_count": 3,
   "metadata": {
    "collapsed": false
   },
   "outputs": [
    {
     "data": {
      "text/plain": [
       "3.3333333333333335"
      ]
     },
     "execution_count": 3,
     "metadata": {},
     "output_type": "execute_result"
    }
   ],
   "source": [
    "#what does the / operator do?\n",
    "10/3"
   ]
  },
  {
   "cell_type": "code",
   "execution_count": 4,
   "metadata": {
    "collapsed": false
   },
   "outputs": [
    {
     "data": {
      "text/plain": [
       "3"
      ]
     },
     "execution_count": 4,
     "metadata": {},
     "output_type": "execute_result"
    }
   ],
   "source": [
    "#here is how you force integer division\n",
    "10//3"
   ]
  },
  {
   "cell_type": "code",
   "execution_count": 5,
   "metadata": {
    "collapsed": false
   },
   "outputs": [
    {
     "data": {
      "text/plain": [
       "'Hello there'"
      ]
     },
     "execution_count": 5,
     "metadata": {},
     "output_type": "execute_result"
    }
   ],
   "source": [
    "\"Hello there\""
   ]
  },
  {
   "cell_type": "code",
   "execution_count": 6,
   "metadata": {
    "collapsed": false
   },
   "outputs": [
    {
     "data": {
      "text/plain": [
       "('The sum is: ', 12)"
      ]
     },
     "execution_count": 6,
     "metadata": {},
     "output_type": "execute_result"
    }
   ],
   "source": [
    "\"The sum is: \", 3*4"
   ]
  },
  {
   "cell_type": "code",
   "execution_count": 7,
   "metadata": {
    "collapsed": false
   },
   "outputs": [
    {
     "ename": "TypeError",
     "evalue": "Can't convert 'int' object to str implicitly",
     "output_type": "error",
     "traceback": [
      "\u001b[1;31m---------------------------------------------------------------------------\u001b[0m",
      "\u001b[1;31mTypeError\u001b[0m                                 Traceback (most recent call last)",
      "\u001b[1;32m<ipython-input-7-062381d7e6cd>\u001b[0m in \u001b[0;36m<module>\u001b[1;34m()\u001b[0m\n\u001b[1;32m----> 1\u001b[1;33m \u001b[1;34m\"the sum is: \"\u001b[0m \u001b[1;33m+\u001b[0m \u001b[1;36m3\u001b[0m\u001b[1;33m*\u001b[0m\u001b[1;36m4\u001b[0m\u001b[1;33m\u001b[0m\u001b[0m\n\u001b[0m",
      "\u001b[1;31mTypeError\u001b[0m: Can't convert 'int' object to str implicitly"
     ]
    }
   ],
   "source": [
    "\"the sum is: \" + 3*4"
   ]
  },
  {
   "cell_type": "code",
   "execution_count": 8,
   "metadata": {
    "collapsed": false
   },
   "outputs": [
    {
     "data": {
      "text/plain": [
       "'the sum is: 12'"
      ]
     },
     "execution_count": 8,
     "metadata": {},
     "output_type": "execute_result"
    }
   ],
   "source": [
    "#the str function to the rescue.\n",
    "\"the sum is: \" + str(3*4)"
   ]
  },
  {
   "cell_type": "code",
   "execution_count": 9,
   "metadata": {
    "collapsed": false
   },
   "outputs": [
    {
     "data": {
      "text/plain": [
       "1"
      ]
     },
     "execution_count": 9,
     "metadata": {},
     "output_type": "execute_result"
    }
   ],
   "source": [
    "#what is remainder when divided by 3?\n",
    "10 % 3\n"
   ]
  },
  {
   "cell_type": "code",
   "execution_count": 10,
   "metadata": {
    "collapsed": false
   },
   "outputs": [
    {
     "data": {
      "text/plain": [
       "12"
      ]
     },
     "execution_count": 10,
     "metadata": {},
     "output_type": "execute_result"
    }
   ],
   "source": [
    "m = 3\n",
    "n = 4\n",
    "m*n"
   ]
  },
  {
   "cell_type": "code",
   "execution_count": 12,
   "metadata": {
    "collapsed": false
   },
   "outputs": [
    {
     "data": {
      "text/plain": [
       "'hellohellohellohello'"
      ]
     },
     "execution_count": 12,
     "metadata": {},
     "output_type": "execute_result"
    }
   ],
   "source": [
    "m = \"hello\"\n",
    "m*n"
   ]
  },
  {
   "cell_type": "code",
   "execution_count": 14,
   "metadata": {
    "collapsed": false
   },
   "outputs": [
    {
     "data": {
      "text/plain": [
       "'ll'"
      ]
     },
     "execution_count": 14,
     "metadata": {},
     "output_type": "execute_result"
    }
   ],
   "source": [
    "#slicing\n",
    "m[2:4]"
   ]
  },
  {
   "cell_type": "code",
   "execution_count": 15,
   "metadata": {
    "collapsed": false
   },
   "outputs": [
    {
     "data": {
      "text/plain": [
       "'h'"
      ]
     },
     "execution_count": 15,
     "metadata": {},
     "output_type": "execute_result"
    }
   ],
   "source": [
    "m[0]"
   ]
  },
  {
   "cell_type": "code",
   "execution_count": 16,
   "metadata": {
    "collapsed": false
   },
   "outputs": [
    {
     "data": {
      "text/plain": [
       "'hel'"
      ]
     },
     "execution_count": 16,
     "metadata": {},
     "output_type": "execute_result"
    }
   ],
   "source": [
    "m[0:3]"
   ]
  },
  {
   "cell_type": "code",
   "execution_count": 17,
   "metadata": {
    "collapsed": false
   },
   "outputs": [
    {
     "name": "stdout",
     "output_type": "stream",
     "text": [
      "h\n",
      "e\n",
      "l\n",
      "l\n",
      "o\n"
     ]
    }
   ],
   "source": [
    "for letter in m:\n",
    "    print(letter)"
   ]
  },
  {
   "cell_type": "code",
   "execution_count": 18,
   "metadata": {
    "collapsed": false
   },
   "outputs": [
    {
     "name": "stdout",
     "output_type": "stream",
     "text": [
      "Here is a letter h\n",
      "Here is a letter e\n",
      "Here is a letter l\n",
      "Here is a letter l\n",
      "Here is a letter o\n"
     ]
    }
   ],
   "source": [
    "for letter in m:\n",
    "    print(\"Here is a letter\", letter)"
   ]
  },
  {
   "cell_type": "code",
   "execution_count": 20,
   "metadata": {
    "collapsed": false
   },
   "outputs": [
    {
     "name": "stdout",
     "output_type": "stream",
     "text": [
      "0 h\n",
      "1 e\n",
      "2 l\n",
      "3 l\n",
      "4 o\n"
     ]
    }
   ],
   "source": [
    "for idx, letter in enumerate (m):\n",
    "    print(idx,letter)"
   ]
  },
  {
   "cell_type": "code",
   "execution_count": 21,
   "metadata": {
    "collapsed": false
   },
   "outputs": [
    {
     "name": "stdout",
     "output_type": "stream",
     "text": [
      "0 -----h\n",
      "1 -----e\n",
      "2 -----l\n",
      "3 -----l\n",
      "4 -----o\n"
     ]
    }
   ],
   "source": [
    "for idx, letter in enumerate (m):\n",
    "    print('%d -----%s' %(idx,letter))"
   ]
  },
  {
   "cell_type": "code",
   "execution_count": 22,
   "metadata": {
    "collapsed": false
   },
   "outputs": [
    {
     "name": "stdout",
     "output_type": "stream",
     "text": [
      "0 -----h\n",
      "1 -----e\n",
      "2 -----l\n",
      "3 -----l\n",
      "4 -----o\n"
     ]
    }
   ],
   "source": [
    "for idx, letter in enumerate (m):\n",
    "    print('{0} -----{1}' .format(idx,letter))"
   ]
  },
  {
   "cell_type": "code",
   "execution_count": 23,
   "metadata": {
    "collapsed": false
   },
   "outputs": [
    {
     "name": "stdout",
     "output_type": "stream",
     "text": [
      "num word\n",
      "---------------\n",
      " 0 some words\n",
      " 1 some words\n",
      " 2 some words\n",
      " 3 some words\n",
      " 4 some words\n",
      " 5 some words\n",
      " 6 some words\n",
      " 7 some words\n",
      " 8 some words\n",
      " 9 some words\n",
      "10 some words\n",
      "11 some words\n",
      "12 some words\n",
      "13 some words\n",
      "14 some words\n",
      "15 some words\n",
      "16 some words\n",
      "17 some words\n",
      "18 some words\n",
      "19 some words\n",
      "20 some words\n",
      "21 some words\n",
      "22 some words\n",
      "23 some words\n",
      "24 some words\n",
      "25 some words\n",
      "26 some words\n",
      "27 some words\n",
      "28 some words\n",
      "29 some words\n",
      "30 some words\n",
      "31 some words\n",
      "32 some words\n",
      "33 some words\n",
      "34 some words\n",
      "35 some words\n",
      "36 some words\n",
      "37 some words\n",
      "38 some words\n",
      "39 some words\n",
      "40 some words\n",
      "41 some words\n",
      "42 some words\n",
      "43 some words\n",
      "44 some words\n",
      "45 some words\n",
      "46 some words\n",
      "47 some words\n",
      "48 some words\n",
      "49 some words\n",
      "50 some words\n",
      "51 some words\n",
      "52 some words\n",
      "53 some words\n",
      "54 some words\n",
      "55 some words\n",
      "56 some words\n",
      "57 some words\n",
      "58 some words\n",
      "59 some words\n",
      "60 some words\n",
      "61 some words\n",
      "62 some words\n",
      "63 some words\n",
      "64 some words\n",
      "65 some words\n",
      "66 some words\n",
      "67 some words\n",
      "68 some words\n",
      "69 some words\n",
      "70 some words\n",
      "71 some words\n",
      "72 some words\n",
      "73 some words\n",
      "74 some words\n",
      "75 some words\n",
      "76 some words\n",
      "77 some words\n",
      "78 some words\n",
      "79 some words\n",
      "80 some words\n",
      "81 some words\n",
      "82 some words\n",
      "83 some words\n",
      "84 some words\n",
      "85 some words\n",
      "86 some words\n",
      "87 some words\n",
      "88 some words\n",
      "89 some words\n",
      "90 some words\n",
      "91 some words\n",
      "92 some words\n",
      "93 some words\n",
      "94 some words\n",
      "95 some words\n",
      "96 some words\n",
      "97 some words\n",
      "98 some words\n",
      "99 some words\n"
     ]
    }
   ],
   "source": [
    "print(\"num word\")\n",
    "print('-'*15)\n",
    "for i in range(100):\n",
    "    print('{0:2} some words'.format(i))\n",
    "    "
   ]
  },
  {
   "cell_type": "code",
   "execution_count": 24,
   "metadata": {
    "collapsed": true
   },
   "outputs": [],
   "source": [
    "lotto =[5,27,8,26,41,32]"
   ]
  },
  {
   "cell_type": "code",
   "execution_count": 25,
   "metadata": {
    "collapsed": false
   },
   "outputs": [
    {
     "name": "stdout",
     "output_type": "stream",
     "text": [
      "[5, 27, 8, 26, 41, 32]\n"
     ]
    }
   ],
   "source": [
    "print(lotto)"
   ]
  },
  {
   "cell_type": "code",
   "execution_count": 26,
   "metadata": {
    "collapsed": false
   },
   "outputs": [
    {
     "name": "stdout",
     "output_type": "stream",
     "text": [
      "5\n",
      "27\n",
      "8\n",
      "26\n",
      "41\n",
      "32\n"
     ]
    }
   ],
   "source": [
    "for num in lotto:\n",
    "    print(num)"
   ]
  },
  {
   "cell_type": "code",
   "execution_count": 27,
   "metadata": {
    "collapsed": false
   },
   "outputs": [
    {
     "data": {
      "text/plain": [
       "[5, 8, 26, 27, 32, 41]"
      ]
     },
     "execution_count": 27,
     "metadata": {},
     "output_type": "execute_result"
    }
   ],
   "source": [
    "sorted_lotto =sorted(lotto)\n",
    "sorted_lotto"
   ]
  },
  {
   "cell_type": "code",
   "execution_count": 28,
   "metadata": {
    "collapsed": false
   },
   "outputs": [
    {
     "data": {
      "text/plain": [
       "26"
      ]
     },
     "execution_count": 28,
     "metadata": {},
     "output_type": "execute_result"
    }
   ],
   "source": [
    "sorted_lotto[2]"
   ]
  },
  {
   "cell_type": "code",
   "execution_count": 29,
   "metadata": {
    "collapsed": false
   },
   "outputs": [
    {
     "ename": "SyntaxError",
     "evalue": "invalid syntax (<ipython-input-29-1baecab2f168>, line 2)",
     "output_type": "error",
     "traceback": [
      "\u001b[1;36m  File \u001b[1;32m\"<ipython-input-29-1baecab2f168>\"\u001b[1;36m, line \u001b[1;32m2\u001b[0m\n\u001b[1;33m    print('Your lotto number is: ' +str i)\u001b[0m\n\u001b[1;37m                                        ^\u001b[0m\n\u001b[1;31mSyntaxError\u001b[0m\u001b[1;31m:\u001b[0m invalid syntax\n"
     ]
    }
   ],
   "source": [
    "for i in sorted_lotto:\n",
    "    print('Your lotto number is: ' +str i)"
   ]
  },
  {
   "cell_type": "code",
   "execution_count": 30,
   "metadata": {
    "collapsed": false
   },
   "outputs": [
    {
     "name": "stdout",
     "output_type": "stream",
     "text": [
      "Your lotto number is: 5\n",
      "Your lotto number is: 8\n",
      "Your lotto number is: 26\n",
      "Your lotto number is: 27\n",
      "Your lotto number is: 32\n",
      "Your lotto number is: 41\n"
     ]
    }
   ],
   "source": [
    "for i in sorted_lotto:\n",
    "    print('Your lotto number is: ' +str (i))"
   ]
  },
  {
   "cell_type": "code",
   "execution_count": 31,
   "metadata": {
    "collapsed": false
   },
   "outputs": [
    {
     "ename": "IndentationError",
     "evalue": "expected an indented block (<ipython-input-31-d6f74fc17de8>, line 3)",
     "output_type": "error",
     "traceback": [
      "\u001b[1;36m  File \u001b[1;32m\"<ipython-input-31-d6f74fc17de8>\"\u001b[1;36m, line \u001b[1;32m3\u001b[0m\n\u001b[1;33m    print('number' + str n 'is' + str(i))\u001b[0m\n\u001b[1;37m        ^\u001b[0m\n\u001b[1;31mIndentationError\u001b[0m\u001b[1;31m:\u001b[0m expected an indented block\n"
     ]
    }
   ],
   "source": [
    "n=1\n",
    "for i in sorted_lotto:\n",
    "print('number' + str n 'is' + str(i))"
   ]
  },
  {
   "cell_type": "code",
   "execution_count": 32,
   "metadata": {
    "collapsed": false
   },
   "outputs": [
    {
     "ename": "IndentationError",
     "evalue": "expected an indented block (<ipython-input-32-0fe1d6a1d7f0>, line 3)",
     "output_type": "error",
     "traceback": [
      "\u001b[1;36m  File \u001b[1;32m\"<ipython-input-32-0fe1d6a1d7f0>\"\u001b[1;36m, line \u001b[1;32m3\u001b[0m\n\u001b[1;33m    print('number' + str (n) 'is' + str(i))\u001b[0m\n\u001b[1;37m        ^\u001b[0m\n\u001b[1;31mIndentationError\u001b[0m\u001b[1;31m:\u001b[0m expected an indented block\n"
     ]
    }
   ],
   "source": [
    "n=1\n",
    "for i in sorted_lotto:\n",
    "print('number' + str (n) 'is' + str(i))"
   ]
  },
  {
   "cell_type": "code",
   "execution_count": 33,
   "metadata": {
    "collapsed": false
   },
   "outputs": [
    {
     "ename": "SyntaxError",
     "evalue": "invalid syntax (<ipython-input-33-57f5b8fbc84f>, line 3)",
     "output_type": "error",
     "traceback": [
      "\u001b[1;36m  File \u001b[1;32m\"<ipython-input-33-57f5b8fbc84f>\"\u001b[1;36m, line \u001b[1;32m3\u001b[0m\n\u001b[1;33m    print('number' + str (n) 'is' + str(i))\u001b[0m\n\u001b[1;37m                                ^\u001b[0m\n\u001b[1;31mSyntaxError\u001b[0m\u001b[1;31m:\u001b[0m invalid syntax\n"
     ]
    }
   ],
   "source": [
    "n=1\n",
    "for i in sorted_lotto:\n",
    "    print('number' + str(n) 'is' + str(i))"
   ]
  },
  {
   "cell_type": "code",
   "execution_count": 34,
   "metadata": {
    "collapsed": false
   },
   "outputs": [
    {
     "name": "stdout",
     "output_type": "stream",
     "text": [
      "number1is5\n",
      "number1is8\n",
      "number1is26\n",
      "number1is27\n",
      "number1is32\n",
      "number1is41\n"
     ]
    }
   ],
   "source": [
    "n=1\n",
    "for i in sorted_lotto:\n",
    "    print('number ' + str(n) + ' is' + str(i))"
   ]
  },
  {
   "cell_type": "code",
   "execution_count": 35,
   "metadata": {
    "collapsed": false
   },
   "outputs": [
    {
     "name": "stdout",
     "output_type": "stream",
     "text": [
      "Number 1 is 5\n",
      "Number 1 is 8\n",
      "Number 1 is 26\n",
      "Number 1 is 27\n",
      "Number 1 is 32\n",
      "Number 1 is 41\n"
     ]
    }
   ],
   "source": [
    "n = 1\n",
    "for i in sorted_lotto:\n",
    "    print('Number ' + str(n) + ' is ' + str(i))"
   ]
  },
  {
   "cell_type": "code",
   "execution_count": 38,
   "metadata": {
    "collapsed": false
   },
   "outputs": [
    {
     "name": "stdout",
     "output_type": "stream",
     "text": [
      "Number 1 is 5\n",
      "Number 2 is 8\n",
      "Number 3 is 26\n",
      "Number 4 is 27\n",
      "Number 5 is 32\n",
      "Number 6 is 41\n"
     ]
    }
   ],
   "source": [
    "n = 1\n",
    "for num in sorted_lotto:\n",
    "    print('Number ' + str(n) + ' is ' + str(num))\n",
    "    n+=1"
   ]
  },
  {
   "cell_type": "code",
   "execution_count": 39,
   "metadata": {
    "collapsed": false
   },
   "outputs": [
    {
     "name": "stdout",
     "output_type": "stream",
     "text": [
      "0 5\n",
      "1 8\n",
      "2 26\n",
      "3 27\n",
      "4 32\n",
      "5 41\n"
     ]
    }
   ],
   "source": [
    "for idx, num in enumerate(sorted_lotto):\n",
    "    print(idx,num)"
   ]
  },
  {
   "cell_type": "code",
   "execution_count": 40,
   "metadata": {
    "collapsed": false
   },
   "outputs": [
    {
     "name": "stdout",
     "output_type": "stream",
     "text": [
      "1 5\n",
      "2 8\n",
      "3 26\n",
      "4 27\n",
      "5 32\n",
      "6 41\n"
     ]
    }
   ],
   "source": [
    "for idx, num in enumerate(sorted_lotto):\n",
    "    print((idx+1),num)"
   ]
  },
  {
   "cell_type": "code",
   "execution_count": 41,
   "metadata": {
    "collapsed": false
   },
   "outputs": [
    {
     "name": "stdout",
     "output_type": "stream",
     "text": [
      "Number 1 is 5\n",
      "Number 2 is 8\n",
      "Number 3 is 26\n",
      "Number 4 is 27\n",
      "Number 5 is 32\n",
      "Number 6 is 41\n"
     ]
    }
   ],
   "source": [
    "for idx, num in enumerate(sorted_lotto):\n",
    "    print('Number',(idx+1),'is',num)"
   ]
  },
  {
   "cell_type": "code",
   "execution_count": 42,
   "metadata": {
    "collapsed": false
   },
   "outputs": [
    {
     "name": "stdout",
     "output_type": "stream",
     "text": [
      "Number 1 is  5\n",
      "Number 2 is  8\n",
      "Number 3 is 26\n",
      "Number 4 is 27\n",
      "Number 5 is 32\n",
      "Number 6 is 41\n"
     ]
    }
   ],
   "source": [
    "for idx, num in enumerate(sorted_lotto):\n",
    "    print('Number {0} is {1:2}'.format((idx+1),num))"
   ]
  },
  {
   "cell_type": "code",
   "execution_count": 43,
   "metadata": {
    "collapsed": false
   },
   "outputs": [
    {
     "name": "stdout",
     "output_type": "stream",
     "text": [
      "Number 1 is 5\n",
      "Number 2 is 8\n",
      "Number 3 is 26\n",
      "Number 4 is 27\n",
      "Number 5 is 32\n",
      "Number 6 is 41\n"
     ]
    }
   ],
   "source": [
    "for idx, num in enumerate(sorted_lotto):\n",
    "    print('Number %d is %d'% ((idx+1),num))"
   ]
  },
  {
   "cell_type": "code",
   "execution_count": null,
   "metadata": {
    "collapsed": true
   },
   "outputs": [],
   "source": []
  }
 ],
 "metadata": {
  "kernelspec": {
   "display_name": "Python [default]",
   "language": "python",
   "name": "python3"
  },
  "language_info": {
   "codemirror_mode": {
    "name": "ipython",
    "version": 3
   },
   "file_extension": ".py",
   "mimetype": "text/x-python",
   "name": "python",
   "nbconvert_exporter": "python",
   "pygments_lexer": "ipython3",
   "version": "3.5.2"
  }
 },
 "nbformat": 4,
 "nbformat_minor": 0
}
