{
 "cells": [
  {
   "cell_type": "markdown",
   "metadata": {},
   "source": [
    "The answers are in the comments below. The code is (generally) for demonstration purposes only"
   ]
  },
  {
   "cell_type": "code",
   "execution_count": 1,
   "metadata": {
    "collapsed": false
   },
   "outputs": [
    {
     "name": "stdout",
     "output_type": "stream",
     "text": [
      "1 '2' 3\n"
     ]
    }
   ],
   "source": [
    "stuff = (1,'2',3)\n",
    "print(\"%r %r %r\" % stuff)\n",
    "\n",
    "# Q1: stuff is a tuple, 1 and 3 are integers, 2 is a string"
   ]
  },
  {
   "cell_type": "code",
   "execution_count": 2,
   "metadata": {
    "collapsed": false
   },
   "outputs": [],
   "source": [
    "stuff1 = (1,2,3)\n",
    "a,b,c = stuff1\n",
    "stuff1 = [1,2,3]\n",
    "a,b,c = stuff1\n",
    "stuff1 = {1,2,3}\n",
    "a,b,c = stuff\n",
    "stuff1 = {'a':1,'b':2,'c':3}\n",
    "a,b,c = stuff\n",
    "# Q2 i) stuff1 is any collections of three things, would have accepted any as correct answer\n",
    "\n",
    "stuff2 = \"1,2,3\"\n",
    "a,b,c = stuff2.split(',')\n",
    "# Q2 ii) split() is a string method, so stuff2 must be a string. It is split using a comma and produces three  \n",
    "#        things, so stuff2 is a string containing three comma separated values, e.g. \"1,2,3\"\n",
    "\n",
    "# Q2 iii) similarly, stuff3 is a string containing three dash separated things, e.g.\"1-2-3\"\n",
    "stuff3 = \"1-2-3\"\n",
    "a,b,c = \"1-2-3\".split('-')"
   ]
  },
  {
   "cell_type": "code",
   "execution_count": 3,
   "metadata": {
    "collapsed": false
   },
   "outputs": [
    {
     "name": "stdout",
     "output_type": "stream",
     "text": [
      "[(1, 2, 3), (4, 5, 6), (7, 8, 9)]\n",
      "[(1, 2, 3), (4, 5, 6), (7, 8, 9)]\n"
     ]
    }
   ],
   "source": [
    "# Q3\n",
    "result = []\n",
    "with open(\"numbers.dat\", \"r\") as f:\n",
    "    for line in f:\n",
    "        result.append(tuple(map(int,line.strip().split(','))))\n",
    "print(result)\n",
    "\n",
    "\n",
    "# Q3 (breaking answer into smaller pieces)\n",
    "result = []\n",
    "with open(\"numbers.dat\", \"r\") as f:\n",
    "    for line in f:\n",
    "        first = line.strip().split(',')\n",
    "        second = map(int, first)\n",
    "        third = tuple(second)\n",
    "        result.append(third)\n",
    "print(result)"
   ]
  },
  {
   "cell_type": "code",
   "execution_count": 4,
   "metadata": {
    "collapsed": false
   },
   "outputs": [
    {
     "data": {
      "text/plain": [
       "'ncrs'"
      ]
     },
     "execution_count": 4,
     "metadata": {},
     "output_type": "execute_result"
    }
   ],
   "source": [
    "# Q4 i)\n",
    "\"rhinoceros\"[3:10:2]"
   ]
  },
  {
   "cell_type": "code",
   "execution_count": 5,
   "metadata": {
    "collapsed": false
   },
   "outputs": [
    {
     "data": {
      "text/plain": [
       "'aged'"
      ]
     },
     "execution_count": 5,
     "metadata": {},
     "output_type": "execute_result"
    }
   ],
   "source": [
    "# Q4 ii)\n",
    "\"armageddon\"[3:7]"
   ]
  },
  {
   "cell_type": "code",
   "execution_count": 6,
   "metadata": {
    "collapsed": false
   },
   "outputs": [
    {
     "data": {
      "text/plain": [
       "'ottol'"
      ]
     },
     "execution_count": 6,
     "metadata": {},
     "output_type": "execute_result"
    }
   ],
   "source": [
    "# Q4 iii)\n",
    "\"lotto\"[::-1]"
   ]
  },
  {
   "cell_type": "code",
   "execution_count": 7,
   "metadata": {
    "collapsed": false
   },
   "outputs": [
    {
     "data": {
      "text/plain": [
       "'10-9-8-7-6-5-4-3-2-1'"
      ]
     },
     "execution_count": 7,
     "metadata": {},
     "output_type": "execute_result"
    }
   ],
   "source": [
    "# Q5\n",
    "'-'.join(map(str,range(1,11)[::-1]))\n",
    "\n",
    "# or\n",
    "\n",
    "'-'.join(map(str, range(10,0,-1)))"
   ]
  },
  {
   "cell_type": "code",
   "execution_count": 8,
   "metadata": {
    "collapsed": false
   },
   "outputs": [
    {
     "name": "stdout",
     "output_type": "stream",
     "text": [
      "1,2,3\n",
      "1\n",
      "2\n",
      "3\n",
      ",1,2,3,\n"
     ]
    }
   ],
   "source": [
    "# Q6\n",
    "\n",
    "# split() breaks a string into a list, based on the argument e.g. split(',') will split a line based on commas\n",
    "print(\"1,2,3\")\n",
    "\n",
    "# strip() removes leading and trailing occurences of it's argument, or '\\n' by default\n",
    "print(\"\\n1\\n2\\n3\\n\".strip())\n",
    "\n",
    "# replace(), replaces occurrences of its first argument, with the value of its second argument, e.g. \n",
    "print(\"\\n1\\n2\\n3\\n\".replace('\\n',','))"
   ]
  },
  {
   "cell_type": "code",
   "execution_count": 9,
   "metadata": {
    "collapsed": true
   },
   "outputs": [],
   "source": [
    "# Q7 i) 'Lazy evaluation', memory and performance benefits\n",
    "\n",
    "# Q7 ii) force the map or filter to produce data e.g. a for loop, a list contructor, or the next() command"
   ]
  },
  {
   "cell_type": "code",
   "execution_count": 10,
   "metadata": {
    "collapsed": true
   },
   "outputs": [],
   "source": [
    "# Q8 the 'with' context will take care of closing the file upon leaving the 'context' (i.e. the indented block), \n",
    "# cons: indentation and you have to structure your code a little differently"
   ]
  },
  {
   "cell_type": "code",
   "execution_count": 11,
   "metadata": {
    "collapsed": true
   },
   "outputs": [],
   "source": [
    "# Q9 \n",
    "# (1,2,3,4) is a tuple with four items. Handy for packing and unpacking data. Cannot append to a tuple. Useful\n",
    "#           for returning data from a functions\n",
    "# ['dog', 'cat', 'mouse'] is a list with three items. Can grow and shrink in size. Useful for gathering data.\n",
    "\n",
    "# {'mammal','bird','insect} is a set, no two values it contains will be the same. Cannot append, only add. Useful \n",
    "#          for randomly choosing lotto numbers (no two numbers should be the same)\n",
    "\n",
    "# {'t001' : 'joe'} a dictionary, like a list but you choose the indeces (keys) "
   ]
  },
  {
   "cell_type": "code",
   "execution_count": 12,
   "metadata": {
    "collapsed": true
   },
   "outputs": [],
   "source": [
    "# Q9 ?\n",
    "# initialise a count to zero, open the file, iterate over the lines of the file incrementing the value\n",
    "# of count on every iteration"
   ]
  },
  {
   "cell_type": "markdown",
   "metadata": {},
   "source": [
    "# Q9"
   ]
  },
  {
   "cell_type": "code",
   "execution_count": 13,
   "metadata": {
    "collapsed": false
   },
   "outputs": [
    {
     "name": "stdout",
     "output_type": "stream",
     "text": [
      "please enter a password: ASDfgh123%^\n",
      "please re-enter the passwordASDfgh123%^\n"
     ]
    },
    {
     "data": {
      "text/plain": [
       "'good password'"
      ]
     },
     "execution_count": 13,
     "metadata": {},
     "output_type": "execute_result"
    }
   ],
   "source": [
    "def test_passwords(pass1, pass2):\n",
    "    has_digit = False\n",
    "    has_lower = False\n",
    "    has_upper = False\n",
    "    has_allowed = False\n",
    "    if len(pass1) > 9:\n",
    "            for symbol in pass1:\n",
    "                if symbol.isupper():\n",
    "                    has_upper = True\n",
    "                elif symbol.islower():\n",
    "                    has_lower = True\n",
    "                elif symbol.isdigit():\n",
    "                    has_digit = True\n",
    "                elif symbol in \"£$%^&*\":\n",
    "                    has_allowed = True\n",
    "                else:\n",
    "                    break\n",
    "    if has_upper and has_lower and has_allowed and has_digit:\n",
    "        return \"good password\"    \n",
    "    else:\n",
    "        return \"bad password\"\n",
    "    \n",
    "pass1 = input(\"please enter a password: \")\n",
    "pass2 = input(\"please re-enter the password\")\n",
    "test_passwords(pass1, pass2)      "
   ]
  },
  {
   "cell_type": "markdown",
   "metadata": {},
   "source": [
    "# Q10"
   ]
  },
  {
   "cell_type": "code",
   "execution_count": 14,
   "metadata": {
    "collapsed": true
   },
   "outputs": [],
   "source": [
    "%%bash\n",
    "# This cell was not needed for the exam\n",
    "cat <<- EOF > motivation.txt\n",
    "that was a really nice and lovely day\n",
    "EOF"
   ]
  },
  {
   "cell_type": "code",
   "execution_count": 15,
   "metadata": {
    "collapsed": false
   },
   "outputs": [
    {
     "name": "stdout",
     "output_type": "stream",
     "text": [
      "that was a really wonderful and beautiful day "
     ]
    }
   ],
   "source": [
    "substitute = {'nice' : 'wonderful', 'lovely' : 'beautiful'}\n",
    "\n",
    "with open(\"motivation.txt\", \"r\") as f:\n",
    "    for line in f:\n",
    "        for word in line.strip().split():\n",
    "            if word in substitute:\n",
    "                word = substitute[word]\n",
    "            print(word, end = ' ')"
   ]
  },
  {
   "cell_type": "markdown",
   "metadata": {},
   "source": [
    "# Part 3"
   ]
  },
  {
   "cell_type": "code",
   "execution_count": 16,
   "metadata": {
    "collapsed": false
   },
   "outputs": [
    {
     "name": "stdout",
     "output_type": "stream",
     "text": [
      "&\n",
      "^\n",
      "£\n",
      "&$\n",
      "&&\n"
     ]
    }
   ],
   "source": [
    "num_order = {'$' : '&', '&' : '^', '^' : '£', '£' : '$'}\n",
    "\n",
    "def last_symbol():\n",
    "    return sorted(num_order)[len(num_order) - 1]\n",
    "\n",
    "def first_symbol():\n",
    "    return sorted(num_order)[0]\n",
    "\n",
    "def mynext(symbol):\n",
    "    if symbol == last_symbol():\n",
    "        return (1, first_symbol())\n",
    "    else:\n",
    "        return (0, num_order[symbol])\n",
    "\n",
    "def first_counting_symbol():\n",
    "    return num_order[first_symbol()]\n",
    "\n",
    "number = [first_symbol()]\n",
    "for i in range(5):\n",
    "    carry = 1\n",
    "    for idx, symbol in enumerate(number):\n",
    "        if carry == 1:\n",
    "            carry, symbol = mynext(symbol)\n",
    "            number[idx] = symbol\n",
    "        else:\n",
    "            break\n",
    "    if carry == 1:\n",
    "        number.append(first_counting_symbol())\n",
    "    print(''.join(number[::-1]))"
   ]
  },
  {
   "cell_type": "markdown",
   "metadata": {},
   "source": [
    "Step forward through the code at this [link](http://pythontutor.com/visualize.html#code=num_order%20%3D%20%7B'%24'%20%3A%20'%26',%20'%26'%20%3A%20'%5E',%20'%5E'%20%3A%20'%C2%A3',%20'%C2%A3'%20%3A%20'%24'%7D%0A%0Adef%20last_symbol%28%29%3A%0A%20%20%20%20return%20sorted%28num_order%29%5Blen%28num_order%29%20-%201%5D%0A%0Adef%20first_symbol%28%29%3A%0A%20%20%20%20return%20sorted%28num_order%29%5B0%5D%0A%0Adef%20mynext%28symbol%29%3A%0A%20%20%20%20if%20symbol%20%3D%3D%20last_symbol%28%29%3A%0A%20%20%20%20%20%20%20%20return%20%281,%20first_symbol%28%29%29%0A%20%20%20%20else%3A%0A%20%20%20%20%20%20%20%20return%20%280,%20num_order%5Bsymbol%5D%29%0A%0Adef%20first_counting_symbol%28%29%3A%0A%20%20%20%20return%20num_order%5Bfirst_symbol%28%29%5D%0A%0Anumber%20%3D%20%5Bfirst_symbol%28%29%5D%0Afor%20i%20in%20range%285%29%3A%0A%20%20%20%20carry%20%3D%201%0A%20%20%20%20for%20idx,%20symbol%20in%20enumerate%28number%29%3A%0A%20%20%20%20%20%20%20%20if%20carry%20%3D%3D%201%3A%0A%20%20%20%20%20%20%20%20%20%20%20%20carry,%20symbol%20%3D%20mynext%28symbol%29%0A%20%20%20%20%20%20%20%20%20%20%20%20number%5Bidx%5D%20%3D%20symbol%0A%20%20%20%20%20%20%20%20else%3A%0A%20%20%20%20%20%20%20%20%20%20%20%20break%0A%20%20%20%20if%20carry%20%3D%3D%201%3A%0A%20%20%20%20%20%20%20%20number.append%28first_counting_symbol%28%29%29%0A%20%20%20%20print%28''.join%28number%5B%3A%3A-1%5D%29%29&cumulative=false&curInstr=0&heapPrimitives=false&mode=display&origin=opt-frontend.js&py=3&rawInputLstJSON=%5B%5D&textReferences=false)"
   ]
  },
  {
   "cell_type": "code",
   "execution_count": null,
   "metadata": {
    "collapsed": true
   },
   "outputs": [],
   "source": []
  }
 ],
 "metadata": {
  "kernelspec": {
   "display_name": "Python 2",
   "language": "python",
   "name": "python2"
  },
  "language_info": {
   "codemirror_mode": {
    "name": "ipython",
    "version": 2
   },
   "file_extension": ".py",
   "mimetype": "text/x-python",
   "name": "python",
   "nbconvert_exporter": "python",
   "pygments_lexer": "ipython2",
   "version": "2.7.13"
  }
 },
 "nbformat": 4,
 "nbformat_minor": 2
}
