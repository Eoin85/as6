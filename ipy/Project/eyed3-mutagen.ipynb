{
 "cells": [
  {
   "cell_type": "code",
   "execution_count": 4,
   "metadata": {
    "collapsed": false
   },
   "outputs": [
    {
     "ename": "NotImplementedError",
     "evalue": "Unable to write ID3 v2.2",
     "output_type": "error",
     "traceback": [
      "\u001b[0;31m\u001b[0m",
      "\u001b[0;31mNotImplementedError\u001b[0mTraceback (most recent call last)",
      "\u001b[0;32m<ipython-input-4-41796cbe3b50>\u001b[0m in \u001b[0;36m<module>\u001b[0;34m()\u001b[0m\n\u001b[1;32m      8\u001b[0m \u001b[0maudiofile\u001b[0m\u001b[1;33m.\u001b[0m\u001b[0mtag\u001b[0m\u001b[1;33m.\u001b[0m\u001b[0mtrack_num\u001b[0m \u001b[1;33m=\u001b[0m \u001b[1;36m4\u001b[0m\u001b[1;33m\u001b[0m\u001b[0m\n\u001b[1;32m      9\u001b[0m \u001b[1;33m\u001b[0m\u001b[0m\n\u001b[0;32m---> 10\u001b[0;31m \u001b[0maudiofile\u001b[0m\u001b[1;33m.\u001b[0m\u001b[0mtag\u001b[0m\u001b[1;33m.\u001b[0m\u001b[0msave\u001b[0m\u001b[1;33m(\u001b[0m\u001b[1;33m)\u001b[0m\u001b[1;33m\u001b[0m\u001b[0m\n\u001b[0m",
      "\u001b[0;32mC:\\Users\\bart\\Anaconda2\\lib\\site-packages\\eyed3\\id3\\tag.pyc\u001b[0m in \u001b[0;36msave\u001b[0;34m(self, filename, version, encoding, backup, preserve_file_time, max_padding)\u001b[0m\n\u001b[1;32m    758\u001b[0m         \u001b[0mversion\u001b[0m \u001b[1;33m=\u001b[0m \u001b[0mversion\u001b[0m \u001b[1;32mif\u001b[0m \u001b[0mversion\u001b[0m \u001b[1;32melse\u001b[0m \u001b[0mself\u001b[0m\u001b[1;33m.\u001b[0m\u001b[0mversion\u001b[0m\u001b[1;33m\u001b[0m\u001b[0m\n\u001b[1;32m    759\u001b[0m         \u001b[1;32mif\u001b[0m \u001b[0mversion\u001b[0m \u001b[1;33m==\u001b[0m \u001b[0mID3_V2_2\u001b[0m\u001b[1;33m:\u001b[0m\u001b[1;33m\u001b[0m\u001b[0m\n\u001b[0;32m--> 760\u001b[0;31m             \u001b[1;32mraise\u001b[0m \u001b[0mNotImplementedError\u001b[0m\u001b[1;33m(\u001b[0m\u001b[1;34m\"Unable to write ID3 v2.2\"\u001b[0m\u001b[1;33m)\u001b[0m\u001b[1;33m\u001b[0m\u001b[0m\n\u001b[0m\u001b[1;32m    761\u001b[0m         \u001b[0mself\u001b[0m\u001b[1;33m.\u001b[0m\u001b[0mversion\u001b[0m \u001b[1;33m=\u001b[0m \u001b[0mversion\u001b[0m\u001b[1;33m\u001b[0m\u001b[0m\n\u001b[1;32m    762\u001b[0m \u001b[1;33m\u001b[0m\u001b[0m\n",
      "\u001b[0;31mNotImplementedError\u001b[0m: Unable to write ID3 v2.2"
     ]
    }
   ],
   "source": [
    "import eyed3\n",
    "\n",
    "audiofile = eyed3.load(\"C:/Users/bart/Anaconda2/Lib/site-packages/eyed3/music/It's Been Awhile.mp3\")\n",
    "audiofile.tag.artist = u\"Staind\"\n",
    "audiofile.tag.album = u\"Break the cycle\"\n",
    "audiofile.tag.album_artist = u\"Metal\"\n",
    "audiofile.tag.title = u\"Been Awhile\"\n",
    "audiofile.tag.track_num = 4\n",
    "\n",
    "audiofile.tag.save()"
   ]
  },
  {
   "cell_type": "code",
   "execution_count": 17,
   "metadata": {
    "collapsed": true
   },
   "outputs": [],
   "source": [
    "from eyed3.id3 import ID3_V1_0, ID3_V1_1, ID3_V2_2, ID3_V2_4"
   ]
  },
  {
   "cell_type": "code",
   "execution_count": 15,
   "metadata": {
    "collapsed": false
   },
   "outputs": [],
   "source": [
    "import eyed3\n",
    "\n",
    "audiofile = eyed3.load(\"C:/Users/bart/Anaconda2/Lib/site-packages/eyed3/music/It's Been Awhile.mp3\")\n",
    "audiofile.tag.artist = u\"Staind\"\n",
    "audiofile.tag.album = u\"Break cycle\"\n",
    "audiofile.tag.album_artist = u\"Metal\"\n",
    "audiofile.tag.title = u\"It'sBeen Awhile\"\n",
    "audiofile.tag.track_num = 3"
   ]
  },
  {
   "cell_type": "code",
   "execution_count": 11,
   "metadata": {
    "collapsed": false
   },
   "outputs": [
    {
     "name": "stdout",
     "output_type": "stream",
     "text": [
      "<eyed3.mp3.Mp3AudioFile object at 0x0000000005EA63C8>\n"
     ]
    }
   ],
   "source": [
    "print(audiofile)"
   ]
  },
  {
   "cell_type": "code",
   "execution_count": 18,
   "metadata": {
    "collapsed": false
   },
   "outputs": [
    {
     "ename": "NotImplementedError",
     "evalue": "Unable to write ID3 v2.2",
     "output_type": "error",
     "traceback": [
      "\u001b[0;31m\u001b[0m",
      "\u001b[0;31mNotImplementedError\u001b[0mTraceback (most recent call last)",
      "\u001b[0;32m<ipython-input-18-642da50ac2a7>\u001b[0m in \u001b[0;36m<module>\u001b[0;34m()\u001b[0m\n\u001b[0;32m----> 1\u001b[0;31m \u001b[0maudiofile\u001b[0m\u001b[1;33m.\u001b[0m\u001b[0mtag\u001b[0m\u001b[1;33m.\u001b[0m\u001b[0msave\u001b[0m\u001b[1;33m(\u001b[0m\u001b[1;34m\"C:/Users/bart/Anaconda2/Lib/site-packages/eyed3/music/It's Been Awhile.mp3\"\u001b[0m\u001b[1;33m)\u001b[0m\u001b[1;33m\u001b[0m\u001b[0m\n\u001b[0m",
      "\u001b[0;32mC:\\Users\\bart\\Anaconda2\\lib\\site-packages\\eyed3\\id3\\tag.pyc\u001b[0m in \u001b[0;36msave\u001b[0;34m(self, filename, version, encoding, backup, preserve_file_time, max_padding)\u001b[0m\n\u001b[1;32m    758\u001b[0m         \u001b[0mversion\u001b[0m \u001b[1;33m=\u001b[0m \u001b[0mversion\u001b[0m \u001b[1;32mif\u001b[0m \u001b[0mversion\u001b[0m \u001b[1;32melse\u001b[0m \u001b[0mself\u001b[0m\u001b[1;33m.\u001b[0m\u001b[0mversion\u001b[0m\u001b[1;33m\u001b[0m\u001b[0m\n\u001b[1;32m    759\u001b[0m         \u001b[1;32mif\u001b[0m \u001b[0mversion\u001b[0m \u001b[1;33m==\u001b[0m \u001b[0mID3_V2_2\u001b[0m\u001b[1;33m:\u001b[0m\u001b[1;33m\u001b[0m\u001b[0m\n\u001b[0;32m--> 760\u001b[0;31m             \u001b[1;32mraise\u001b[0m \u001b[0mNotImplementedError\u001b[0m\u001b[1;33m(\u001b[0m\u001b[1;34m\"Unable to write ID3 v2.2\"\u001b[0m\u001b[1;33m)\u001b[0m\u001b[1;33m\u001b[0m\u001b[0m\n\u001b[0m\u001b[1;32m    761\u001b[0m         \u001b[0mself\u001b[0m\u001b[1;33m.\u001b[0m\u001b[0mversion\u001b[0m \u001b[1;33m=\u001b[0m \u001b[0mversion\u001b[0m\u001b[1;33m\u001b[0m\u001b[0m\n\u001b[1;32m    762\u001b[0m \u001b[1;33m\u001b[0m\u001b[0m\n",
      "\u001b[0;31mNotImplementedError\u001b[0m: Unable to write ID3 v2.2"
     ]
    }
   ],
   "source": [
    "audiofile.tag.save(\"C:/Users/bart/Anaconda2/Lib/site-packages/eyed3/music/It's Been Awhile.mp3\")"
   ]
  },
  {
   "cell_type": "code",
   "execution_count": 24,
   "metadata": {
    "collapsed": false
   },
   "outputs": [],
   "source": [
    "from mutagen.easyid3 import EasyID3\n",
    "\n",
    "audio = EasyID3(\"C:/Users/bart/Anaconda2/Lib/site-packages/mutagen/music/Is This It.mp3\")\n",
    "audio['title'] = u\"Example Title\"\n",
    "audio['artist'] = u\"The Strokes\"\n",
    "audio['album'] = u\"Is This It\"\n",
    "audio['composer'] = u\"The Strokes\" \n",
    "audio['genre'] = u\"rork\"# clear\n",
    "audio.save(\"C:/Users/bart/Anaconda2/Lib/site-packages/mutagen/music/Is This It.mp3\")"
   ]
  },
  {
   "cell_type": "code",
   "execution_count": 25,
   "metadata": {
    "collapsed": false
   },
   "outputs": [
    {
     "name": "stdout",
     "output_type": "stream",
     "text": [
      "{'album': [u'Is This It'], 'artist': [u'The Strokes'], 'title': [u'Example Title'], 'encodedby': [u'iTunes 12.5.5.5'], 'composer': [u'The Strokes'], 'date': [u'2000'], 'tracknumber': [u'1/11'], 'discnumber': [u'1/1'], 'genre': [u'rork']}\n"
     ]
    }
   ],
   "source": [
    "print(audio)"
   ]
  },
  {
   "cell_type": "code",
   "execution_count": 30,
   "metadata": {
    "collapsed": true
   },
   "outputs": [],
   "source": [
    "from mutagen.easyid3 import EasyID3\n",
    "\n",
    "audio = EasyID3(\"C:/Users/bart/Anaconda2/Lib/site-packages/mutagen/music/Is This It.mp3\")\n",
    "audio['title'] = u\"I This It\"\n",
    "audio['artist'] = u\"The Strokes\"\n",
    "audio['album'] = u\"Is This It\"\n",
    "audio['composer'] = u\"The Strokes\" \n",
    "audio['genre'] = u\"rock\"\n",
    "audio.save(\"C:/Users/bart/Anaconda2/Lib/site-packages/mutagen/music/Is This It.mp3\")"
   ]
  },
  {
   "cell_type": "code",
   "execution_count": 33,
   "metadata": {
    "collapsed": false
   },
   "outputs": [
    {
     "name": "stdout",
     "output_type": "stream",
     "text": [
      "{'album': [u'Is This It'], 'artist': [u'The Strokes'], 'title': [u'I This It'], 'encodedby': [u'iTunes 12.5.5.5'], 'composer': [u'The Strokes'], 'date': [u'2000'], 'tracknumber': [u'1/11'], 'discnumber': [u'1/1'], 'genre': [u'rock']}\n"
     ]
    }
   ],
   "source": [
    "print(audio)"
   ]
  },
  {
   "cell_type": "code",
   "execution_count": null,
   "metadata": {
    "collapsed": true
   },
   "outputs": [],
   "source": []
  }
 ],
 "metadata": {
  "kernelspec": {
   "display_name": "Python 2",
   "language": "python",
   "name": "python2"
  },
  "language_info": {
   "codemirror_mode": {
    "name": "ipython",
    "version": 2
   },
   "file_extension": ".py",
   "mimetype": "text/x-python",
   "name": "python",
   "nbconvert_exporter": "python",
   "pygments_lexer": "ipython2",
   "version": "2.7.13"
  }
 },
 "nbformat": 4,
 "nbformat_minor": 2
}
