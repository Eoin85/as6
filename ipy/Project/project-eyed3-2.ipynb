{
 "cells": [
  {
   "cell_type": "code",
   "execution_count": 2,
   "metadata": {
    "collapsed": false,
    "scrolled": false
   },
   "outputs": [
    {
     "name": "stdout",
     "output_type": "stream",
     "text": [
      "<eyed3.mp3.Mp3AudioFile object at 0x0000000005EB1C88>\n",
      "Stone Sour\n",
      "<eyed3.mp3.Mp3AudioFile object at 0x0000000005F1E978>\n",
      "The Strokes\n",
      "<eyed3.mp3.Mp3AudioFile object at 0x0000000004360CF8>\n",
      "Static-X\n",
      "<eyed3.mp3.Mp3AudioFile object at 0x0000000005EB1C88>\n",
      "Staind\n",
      "<eyed3.mp3.Mp3AudioFile object at 0x0000000004360CF8>\n",
      "bart\n"
     ]
    }
   ],
   "source": [
    "import os\n",
    "import eyed3\n",
    "\n",
    "root_folder = os.path.expanduser(\"C:/Users/bart/Anaconda2/Lib/site-packages/eyed3/samples/\")\n",
    "\n",
    "files = os.listdir(root_folder) #lists all files in specified directory\n",
    "count = 1\n",
    "for file_name in files:\n",
    "    #if file_name.endswith('.mp3'): continue #if file ends with \".mp3\" it continues onto the next line\n",
    "\n",
    "    abs_location = os.path.join(root_folder, file_name)\n",
    "\n",
    "    song_info = eyed3.load(abs_location) #loads each file into eyed3 and assignes the return value to song_info\n",
    "    if song_info is None:\n",
    "        print 'Skippig %s' % abs_location\n",
    "        continue\n",
    "    \n",
    "    folder =  u\"music%r\" % count\n",
    "    \n",
    "    os.mkdir(os.path.join(root_folder, folder))\n",
    "    \n",
    "    newp = os.path.join(folder, file_name)\n",
    "    os.rename(abs_location, os.path.join(root_folder, newp))\n",
    "    print song_info\n",
    "    print song_info.tag.artist\n",
    "    count += 1"
   ]
  },
  {
   "cell_type": "code",
   "execution_count": 3,
   "metadata": {
    "collapsed": true
   },
   "outputs": [],
   "source": [
    "audiofile = eyed3.load(\"C:/Users/bart/Anaconda2/Lib/site-packages/eyed3/samples/music2/Is This It.mp3\")"
   ]
  },
  {
   "cell_type": "code",
   "execution_count": 4,
   "metadata": {
    "collapsed": false
   },
   "outputs": [
    {
     "name": "stdout",
     "output_type": "stream",
     "text": [
      "<eyed3.mp3.Mp3AudioFile object at 0x0000000005EB1F28>\n"
     ]
    }
   ],
   "source": [
    "print(audiofile)"
   ]
  },
  {
   "cell_type": "code",
   "execution_count": null,
   "metadata": {
    "collapsed": true
   },
   "outputs": [],
   "source": []
  }
 ],
 "metadata": {
  "kernelspec": {
   "display_name": "Python 2",
   "language": "python",
   "name": "python2"
  }
 },
 "nbformat": 4,
 "nbformat_minor": 2
}
