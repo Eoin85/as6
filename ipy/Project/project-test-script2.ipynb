{
 "cells": [
  {
   "cell_type": "code",
   "execution_count": 3,
   "metadata": {
    "collapsed": false,
    "scrolled": false
   },
   "outputs": [
    {
     "name": "stdout",
     "output_type": "stream",
     "text": [
      "01 Gone Sovereign.mp3\n",
      "01 Is This It.mp3\n",
      "02 I'm The One.mp3\n",
      "04 It's Been Awhile.mp3\n",
      "test.mp3\n"
     ]
    }
   ],
   "source": [
    "import os\n",
    "from mutagen.easyid3 import EasyID3\n",
    "\n",
    "root_folder = os.path.expanduser(\"C:/Users/bart/Anaconda2/Lib/site-packages/eyed3/samples2/\")\n",
    "\n",
    "#if not os.path.isdir(root_folder):\n",
    "files = os.listdir(root_folder) #lists all files in specified directory\n",
    "#count = 1\n",
    "\n",
    "for file_name in files:\n",
    "    print file_name\n",
    "\n",
    "    #if file_name.endswith('.mp3'): continue #if file ends with \".mp3\" it continues onto the next line\n",
    "\n",
    "    abs_location = os.path.join(root_folder, file_name)\n",
    "\n",
    "    song_info = EasyID3(abs_location) #loads each file into eyed3 and assignes the return value to song_info\n",
    "    if song_info is None:\n",
    "        print 'Skippig %s' % abs_location\n",
    "        continue\n",
    "\n",
    "    folder = os.path.join(root_folder, song_info['artist'][0])\n",
    "    if not os.path.isdir(folder):\n",
    "        os.mkdir(os.path.join(root_folder, folder))\n",
    "\n",
    "    #newp = os.path.join(folder, file_name)\n",
    "    os.rename(abs_location, os.path.join(folder, file_name))\n"
   ]
  },
  {
   "cell_type": "code",
   "execution_count": 3,
   "metadata": {
    "collapsed": true
   },
   "outputs": [],
   "source": [
    "audiofile = eyed3.load(\"C:/Users/bart/Anaconda2/Lib/site-packages/eyed3/samples/music2/Is This It.mp3\")"
   ]
  },
  {
   "cell_type": "code",
   "execution_count": 4,
   "metadata": {
    "collapsed": false
   },
   "outputs": [
    {
     "name": "stdout",
     "output_type": "stream",
     "text": [
      "<eyed3.mp3.Mp3AudioFile object at 0x0000000005EB1F28>\n"
     ]
    }
   ],
   "source": [
    "print(audiofile)"
   ]
  },
  {
   "cell_type": "code",
   "execution_count": 6,
   "metadata": {
    "collapsed": false
   },
   "outputs": [
    {
     "name": "stdout",
     "output_type": "stream",
     "text": [
      "<eyed3.mp3.Mp3AudioFile object at 0x0000000005D181D0>\n",
      "AFI\n",
      "<eyed3.mp3.Mp3AudioFile object at 0x0000000005CC1DD8>\n",
      "Static-X\n",
      "<eyed3.mp3.Mp3AudioFile object at 0x0000000004627B70>\n",
      "Audioslave\n",
      "<eyed3.mp3.Mp3AudioFile object at 0x0000000005D181D0>\n",
      "Avatar\n",
      "<eyed3.mp3.Mp3AudioFile object at 0x0000000005CEEFD0>\n",
      "Audioslave\n",
      "<eyed3.mp3.Mp3AudioFile object at 0x00000000041B5048>\n",
      "Adema\n",
      "<eyed3.mp3.Mp3AudioFile object at 0x0000000005CC1DD8>\n",
      "AFI\n",
      "<eyed3.mp3.Mp3AudioFile object at 0x0000000005D181D0>\n",
      "Staind\n",
      "<eyed3.mp3.Mp3AudioFile object at 0x0000000004627B70>\n",
      "AFI\n",
      "<eyed3.mp3.Mp3AudioFile object at 0x00000000041B5048>\n",
      "AC/DC\n",
      "<eyed3.mp3.Mp3AudioFile object at 0x0000000005D18240>\n",
      "Avatar\n"
     ]
    }
   ],
   "source": [
    "import os\n",
    "import eyed3\n",
    "\n",
    "root_folder = os.path.expanduser(\"C:/Users/bart/Anaconda2/Lib/site-packages/eyed3/samples2/\")\n",
    "\n",
    "files = os.listdir(root_folder) #lists all files in specified directory\n",
    "count = 1\n",
    "for file_name in files:\n",
    "    #if file_name.endswith('.mp3'): continue #if file ends with \".mp3\" it continues onto the next line\n",
    "\n",
    "    abs_location = os.path.join(root_folder, file_name)\n",
    "\n",
    "    song_info = eyed3.load(abs_location) #loads each file into eyed3 and assignes the return value to song_info\n",
    "    if song_info is None:\n",
    "        print 'Skippig %s' % abs_location\n",
    "        continue\n",
    "    \n",
    "    folder =  u\"music%r\" % count\n",
    "    \n",
    "    os.mkdir(os.path.join(root_folder, folder))\n",
    "    \n",
    "    newp = os.path.join(folder, file_name)\n",
    "    os.rename(abs_location, os.path.join(root_folder, newp))\n",
    "    print song_info\n",
    "    print song_info.tag.artist\n",
    "    count += 1"
   ]
  },
  {
   "cell_type": "code",
   "execution_count": 7,
   "metadata": {
    "collapsed": false
   },
   "outputs": [
    {
     "name": "stdout",
     "output_type": "stream",
     "text": [
      "02 I Hope You Suffer.mp3\n",
      "02 I'm The One.mp3\n",
      "02 Out Of Exile.mp3\n",
      "02 Torn Apart.mp3\n",
      "03 Be Yourself.mp3\n",
      "03 Giving In.mp3\n",
      "03 Miss Murder.mp3\n",
      "04 It's Been Awhile.mp3\n",
      "04 Summer Shudder.mp3\n",
      "05 Back In Black.mp3\n"
     ]
    },
    {
     "ename": "WindowsError",
     "evalue": "[Error 3] The system cannot find the path specified: u'C:/Users/bart/Anaconda2/Lib/site-packages/eyed3/samples/AC/DC'",
     "output_type": "error",
     "traceback": [
      "\u001b[0;31m\u001b[0m",
      "\u001b[0;31mWindowsError\u001b[0mTraceback (most recent call last)",
      "\u001b[0;32m<ipython-input-7-009fec38befa>\u001b[0m in \u001b[0;36m<module>\u001b[0;34m()\u001b[0m\n\u001b[1;32m     22\u001b[0m         \u001b[0mfolder\u001b[0m \u001b[1;33m=\u001b[0m \u001b[0mos\u001b[0m\u001b[1;33m.\u001b[0m\u001b[0mpath\u001b[0m\u001b[1;33m.\u001b[0m\u001b[0mjoin\u001b[0m\u001b[1;33m(\u001b[0m\u001b[0mroot_folder\u001b[0m\u001b[1;33m,\u001b[0m \u001b[0msong_info\u001b[0m\u001b[1;33m[\u001b[0m\u001b[1;34m'artist'\u001b[0m\u001b[1;33m]\u001b[0m\u001b[1;33m[\u001b[0m\u001b[1;36m0\u001b[0m\u001b[1;33m]\u001b[0m\u001b[1;33m)\u001b[0m\u001b[1;33m\u001b[0m\u001b[0m\n\u001b[1;32m     23\u001b[0m         \u001b[1;32mif\u001b[0m \u001b[1;32mnot\u001b[0m \u001b[0mos\u001b[0m\u001b[1;33m.\u001b[0m\u001b[0mpath\u001b[0m\u001b[1;33m.\u001b[0m\u001b[0misdir\u001b[0m\u001b[1;33m(\u001b[0m\u001b[0mfolder\u001b[0m\u001b[1;33m)\u001b[0m\u001b[1;33m:\u001b[0m\u001b[1;33m\u001b[0m\u001b[0m\n\u001b[0;32m---> 24\u001b[0;31m             \u001b[0mos\u001b[0m\u001b[1;33m.\u001b[0m\u001b[0mmkdir\u001b[0m\u001b[1;33m(\u001b[0m\u001b[0mos\u001b[0m\u001b[1;33m.\u001b[0m\u001b[0mpath\u001b[0m\u001b[1;33m.\u001b[0m\u001b[0mjoin\u001b[0m\u001b[1;33m(\u001b[0m\u001b[0mroot_folder\u001b[0m\u001b[1;33m,\u001b[0m \u001b[0mfolder\u001b[0m\u001b[1;33m)\u001b[0m\u001b[1;33m)\u001b[0m\u001b[1;33m\u001b[0m\u001b[0m\n\u001b[0m\u001b[1;32m     25\u001b[0m \u001b[1;33m\u001b[0m\u001b[0m\n\u001b[1;32m     26\u001b[0m         \u001b[1;31m#newp = os.path.join(folder, file_name)\u001b[0m\u001b[1;33m\u001b[0m\u001b[1;33m\u001b[0m\u001b[0m\n",
      "\u001b[0;31mWindowsError\u001b[0m: [Error 3] The system cannot find the path specified: u'C:/Users/bart/Anaconda2/Lib/site-packages/eyed3/samples/AC/DC'"
     ]
    }
   ],
   "source": [
    "import os\n",
    "from mutagen.easyid3 import EasyID3\n",
    "\n",
    "root_folder = os.path.expanduser(\"C:/Users/bart/Anaconda2/Lib/site-packages/eyed3/samples/\")\n",
    "\n",
    "#if not os.path.isdir(root_folder):\n",
    "files = os.listdir(root_folder) #lists all files in specified directory\n",
    "#count = 1\n",
    "\n",
    "for file_name in files:\n",
    "    print file_name\n",
    "\n",
    "    #if file_name.endswith('.mp3'): continue #if file ends with \".mp3\" it continues onto the next line\n",
    "\n",
    "    abs_location = os.path.join(root_folder, file_name)\n",
    "    if not os.path.isdir(abs_location):\n",
    "        song_info = EasyID3(abs_location) #loads each file into eyed3 and assignes the return value to song_info\n",
    "        if song_info is None:\n",
    "            print 'Skippig %s' % abs_location\n",
    "            continue\n",
    "\n",
    "        folder = os.path.join(root_folder, song_info['artist'][0])\n",
    "        if not os.path.isdir(folder):\n",
    "            os.mkdir(os.path.join(root_folder, folder))\n",
    "\n",
    "        #newp = os.path.join(folder, file_name)\n",
    "        os.rename(abs_location, os.path.join(folder, file_name))\n",
    "\n",
    "      "
   ]
  },
  {
   "cell_type": "code",
   "execution_count": 67,
   "metadata": {
    "collapsed": false
   },
   "outputs": [
    {
     "name": "stdout",
     "output_type": "stream",
     "text": [
      "05 Black Waltz.mp3\n",
      "File already exits in folder\n",
      "05 Like A Stone.mp3\n",
      "File already exits in folder\n",
      "05 What's My Age Again_.mp3\n",
      "File already exits in folder\n",
      "06 All The Small Things.mp3\n",
      "File already exits in folder\n",
      "06 Be Quiet And Drive (Far Away).mp3\n",
      "File already exits in folder\n",
      "06 Love Like Winter.mp3\n",
      "File already exits in folder\n",
      "06 The Conductor.mp3\n",
      "File already exits in folder\n",
      "Adema\n",
      "AFI\n",
      "Amen\n",
      "Audioslave\n",
      "Avatar\n",
      "Avenged Sevenfold\n",
      "Biffy Clyro\n",
      "Blink-182\n",
      "Blue October\n",
      "Blur\n",
      "Coal Chamber\n",
      "Deftones\n",
      "Rubbish\n",
      "Staind\n",
      "Static-X\n",
      "Stone Sour\n",
      "The Strokes\n"
     ]
    }
   ],
   "source": [
    "import os\n",
    "from mutagen.easyid3 import EasyID3\n",
    "\n",
    "root_folder = os.path.expanduser(\"C:/Users/bart/Anaconda2/Lib/site-packages/mutagen/music/\")\n",
    "\n",
    "#if not os.path.isdir(root_folder):\n",
    "files = os.listdir(root_folder) #lists all files in specified directory\n",
    "#count = 1\n",
    "\n",
    "for file_name in files:\n",
    "    print file_name\n",
    "\n",
    "    #if file_name.endswith('.mp3'): continue #if file ends with \".mp3\" it continues onto the next line\n",
    "\n",
    "    abs_location = os.path.join(root_folder, file_name)\n",
    "    if not os.path.isdir(abs_location):\n",
    "        song_info = EasyID3(abs_location) #loads each file into eyed3 and assignes the return value to song_info\n",
    "        if song_info is None:\n",
    "            print 'Skippig %s' % abs_location\n",
    "            continue\n",
    "        \n",
    "#        if '/' in song_info['artist'][0]:\n",
    "#            string =  song_info['artist'][0]\n",
    "#            print string\n",
    "#            string.replace('/', '-')\n",
    "#            song_info['artist'][0] = string\n",
    "#            song_info.save(abs_location)            \n",
    "        \n",
    "        folder = os.path.join(root_folder, song_info['artist'][0])\n",
    "        rub_folder = os.path.join(root_folder, \"Rubbish\")\n",
    "        if not os.path.isdir(folder):\n",
    "            os.mkdir(os.path.join(root_folder, folder))\n",
    "        elif not os.path.isdir(rub_folder):\n",
    "            os.mkdir(os.path.join(root_folder, rub_folder))\n",
    "        \n",
    "        new_file_path = os.path.join(folder, file_name)\n",
    "        if not os.path.isfile(new_file_path):\n",
    "            os.rename(abs_location, os.path.join(folder, file_name))\n",
    "        else:\n",
    "            print 'File already exits in folder'\n",
    "            os.rename(abs_location, os.path.join(rub_folder, file_name))\n"
   ]
  },
  {
   "cell_type": "code",
   "execution_count": 32,
   "metadata": {
    "collapsed": false
   },
   "outputs": [
    {
     "name": "stdout",
     "output_type": "stream",
     "text": [
      "s/s\n",
      "s/s\n",
      "s/s\n",
      "s/s\n"
     ]
    }
   ],
   "source": [
    "import os\n",
    "from mutagen.easyid3 import EasyID3\n",
    "\n",
    "root_folder = os.path.expanduser(\"C:/Users/bart/Anaconda2/Lib/site-packages/eyed3/samples/\")\n",
    "\n",
    "#if not os.path.isdir(root_folder):\n",
    "files = os.listdir(root_folder) #lists all files in specified directory\n",
    "#count = 1\n",
    "\n",
    "for file_name in files:\n",
    "    #print file_name\n",
    "\n",
    "    #if file_name.endswith('.mp3'): continue #if file ends with \".mp3\" it continues onto the next line\n",
    "\n",
    "    abs_location = os.path.join(root_folder, file_name)\n",
    "    if not os.path.isdir(abs_location):\n",
    "        song_info = EasyID3(abs_location) #loads each file into eyed3 and assignes the return value to song_info\n",
    "        if song_info is None:\n",
    "            print 'Skippig %s' % abs_location\n",
    "            continue\n",
    "        \n",
    "        if '/' in song_info['artist'][0]:\n",
    "            #print song_info['artist'][0];\n",
    "            #text = song_info['artist'][0];\n",
    "            text = 's/s'\n",
    "            text.replace('s', '')\n",
    "            print text;\n",
    "            #song_info.save(abs_location)\n",
    "            "
   ]
  },
  {
   "cell_type": "code",
   "execution_count": 40,
   "metadata": {
    "collapsed": false
   },
   "outputs": [
    {
     "name": "stdout",
     "output_type": "stream",
     "text": [
      "ss\n"
     ]
    }
   ],
   "source": [
    "text = \"s/s\"\n",
    "print text.replace(\"/\", \"\")\n"
   ]
  },
  {
   "cell_type": "code",
   "execution_count": 35,
   "metadata": {
    "collapsed": false
   },
   "outputs": [
    {
     "name": "stdout",
     "output_type": "stream",
     "text": [
      "thwas was string example....wow!!! thwas was really string\n"
     ]
    }
   ],
   "source": [
    "str = \"this is string example....wow!!! this is really string\";\n",
    "print str.replace(\"is\", \"was\")"
   ]
  },
  {
   "cell_type": "code",
   "execution_count": 11,
   "metadata": {
    "collapsed": false
   },
   "outputs": [
    {
     "name": "stdout",
     "output_type": "stream",
     "text": [
      "05 Back In Black.mp3\n",
      "05 Black Waltz.mp3\n",
      "Adema\n",
      "AFI\n",
      "Audioslave\n",
      "Avatar\n",
      "Staind\n",
      "Static-X\n"
     ]
    }
   ],
   "source": [
    "import os\n",
    "from mutagen.easyid3 import EasyID3\n",
    "\n",
    "root_folder = os.path.expanduser(\"C:/Users/bart/Anaconda2/Lib/site-packages/eyed3/samples/\")\n",
    "\n",
    "#if not os.path.isdir(root_folder):\n",
    "files = os.listdir(root_folder) #lists all files in specified directory\n",
    "#count = 1\n",
    "\n",
    "for file_name in files:\n",
    "    print file_name\n",
    "\n",
    "    if file_name.endswith('.mp3'): continue #if file ends with \".mp3\" it continues onto the next line\n",
    "\n",
    "    abs_location = os.path.join(root_folder, file_name)\n",
    "    if not os.path.isdir(abs_location):\n",
    "        song_info = EasyID3(abs_location) #loads each file into eyed3 and assignes the return value to song_info\n",
    "        if song_info is None:\n",
    "            print 'Skippig %s' % abs_location\n",
    "            continue\n",
    "        \n",
    "        if '/' in song_info['artist'][0]:\n",
    "            print abs_location\n",
    "            song_info['artist'] = u\"mine\"\n",
    "            #print song_info['artist'][0].replace('/', '-')\n",
    "            print song_info['artist']\n",
    "            song_info.save(abs_location)"
   ]
  },
  {
   "cell_type": "code",
   "execution_count": 10,
   "metadata": {
    "collapsed": false
   },
   "outputs": [
    {
     "name": "stdout",
     "output_type": "stream",
     "text": [
      "260.83265\n",
      "160000\n"
     ]
    }
   ],
   "source": [
    "from mutagen.mp3 import MP3\n",
    "\n",
    "audio = MP3(\"C:/Users/bart/Anaconda2/Lib/site-packages/mutagen/music/AFI/07 Medicate.MP3\")\n",
    "print(audio.info.length)\n",
    "print(audio.info.bitrate)"
   ]
  },
  {
   "cell_type": "code",
   "execution_count": null,
   "metadata": {
    "collapsed": true
   },
   "outputs": [],
   "source": []
  }
 ],
 "metadata": {
  "kernelspec": {
   "display_name": "Python 2",
   "language": "python",
   "name": "python2"
  },
  "language_info": {
   "codemirror_mode": {
    "name": "ipython",
    "version": 2
   },
   "file_extension": ".py",
   "mimetype": "text/x-python",
   "name": "python",
   "nbconvert_exporter": "python",
   "pygments_lexer": "ipython2",
   "version": "2.7.13"
  }
 },
 "nbformat": 4,
 "nbformat_minor": 2
}
