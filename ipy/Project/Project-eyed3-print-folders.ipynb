{
 "cells": [
  {
   "cell_type": "code",
   "execution_count": 11,
   "metadata": {
    "collapsed": false
   },
   "outputs": [
    {
     "name": "stdout",
     "output_type": "stream",
     "text": [
      "['Brahms Symphony - from Fourth Movement.mp3', 'Canon.mp3', 'Handel - Entrance of the Queen of Sheba.mp3', 'Jazz Rag Ensemble - 10.mp3', 'Mozart - Presto.mp3', 'Scheherezade Theme.mp3', 'test.mp3']\n"
     ]
    }
   ],
   "source": [
    "from os import listdir\n",
    "from os.path import isfile, join\n",
    "\n",
    "\n",
    "mypath = \"C:/Users/bart/Anaconda2/Lib/site-packages/eyed3/samples/\"\n",
    "onlyfiles = [f for f in listdir(mypath) if isfile(join(mypath, f))]\n",
    "print onlyfiles\n",
    "#imported listdir from os to list all files in a directory\n",
    "#imported isfile to identify just the files (exclude folders)\n",
    "#set the folder path to mypath\n",
    "#looped through the files in the mypath folder, and only saved file names (not folder names) to onlyfiles array\n",
    "#printed onlyfiles array"
   ]
  },
  {
   "cell_type": "code",
   "execution_count": null,
   "metadata": {
    "collapsed": true
   },
   "outputs": [],
   "source": []
  }
 ],
 "metadata": {
  "kernelspec": {
   "display_name": "Python 2",
   "language": "python",
   "name": "python2"
  },
  "language_info": {
   "codemirror_mode": {
    "name": "ipython",
    "version": 2
   },
   "file_extension": ".py",
   "mimetype": "text/x-python",
   "name": "python",
   "nbconvert_exporter": "python",
   "pygments_lexer": "ipython2",
   "version": "2.7.13"
  }
 },
 "nbformat": 4,
 "nbformat_minor": 2
}
