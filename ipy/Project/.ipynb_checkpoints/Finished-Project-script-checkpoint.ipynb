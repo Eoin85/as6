{
 "cells": [
  {
   "cell_type": "code",
   "execution_count": 16,
   "metadata": {
    "collapsed": false
   },
   "outputs": [],
   "source": [
    "import os\n",
    "from mutagen.easyid3 import EasyID3\n",
    "\n",
    "root_folder = os.path.expanduser(\"C:/Users/bart/Anaconda2/Lib/site-packages/mutagen/music/\")\n",
    "\n",
    "\n",
    "files = os.listdir(root_folder) #lists all files in specified directory\n",
    "\n",
    "\n",
    "for file_name in files:\n",
    "    print file_name\n",
    "\n",
    "    #if file_name.endswith('.mp3'): continue #if file ends with \".mp3\" it continues onto the next line\n",
    "\n",
    "    abs_location = os.path.join(root_folder, file_name)\n",
    "    if not os.path.isdir(abs_location):\n",
    "        song_info = EasyID3(abs_location) #loads each file into eyed3 and assignes the return value to song_info\n",
    "        if song_info is None:\n",
    "            print 'Skippig %s' % abs_location\n",
    "            continue\n",
    "        \n",
    "        if '/' in song_info['artist'][0]:\n",
    "            song_info['artist'] = song_info['artist'][0].replace('/', '-')\n",
    "            song_info.save(v2_version=3)  \n",
    "            #Check to find forward slash in artist name an replacing with a hyphen\n",
    "            #as cannot have forward slash in folder names\n",
    "        \n",
    "        folder = os.path.join(root_folder, song_info['artist'][0])#creating path for artist folder\n",
    "        rub_folder = os.path.join(root_folder, \"Rubbish\")#creating path for rub folder\n",
    "        if not os.path.isdir(folder):#checking if folder exists\n",
    "            os.mkdir(os.path.join(root_folder, folder))#creating folder if folder does not exist\n",
    "        elif not os.path.isdir(rub_folder):#check if rubbish folder exists\n",
    "            os.mkdir(os.path.join(root_folder, rub_folder))#creates rubbish folder\n",
    "        \n",
    "        new_file_path = os.path.join(folder, file_name)#creating path for song file\n",
    "        if not os.path.isfile(new_file_path):#checking path to see if files already exists if does not move into that folder\n",
    "            os.rename(abs_location, os.path.join(folder, file_name))#moving file to right folder\n",
    "        else:\n",
    "            print 'File already exits in folder'\n",
    "            os.rename(abs_location, os.path.join(rub_folder, file_name))# if file already exist moves into rubbish folder\n"
   ]
  },
  {
   "cell_type": "code",
   "execution_count": 21,
   "metadata": {
    "collapsed": false
   },
   "outputs": [],
   "source": [
    "from mutagen.easyid3 import EasyID3\n",
    "\n",
    "audio = EasyID3(\"C:/Users/bart/Anaconda2/Lib/site-packages/mutagen/music/AFI/02 Beautiful Thieves.mp3\")\n",
    "audio['title'] = u\"Beautiful Thieves\"\n",
    "audio['artist'] = u\"AFI\"\n",
    "audio['album'] = u\"Crash\"\n",
    "audio['composer'] = u\"AFI\"\n",
    "audio['genre'] = u\"rock\"\n",
    "audio['tracknumber'] = u\"01\"\n",
    "audio.save(v2_version=3)"
   ]
  },
  {
   "cell_type": "code",
   "execution_count": 22,
   "metadata": {
    "collapsed": false
   },
   "outputs": [
    {
     "name": "stdout",
     "output_type": "stream",
     "text": [
      "{'album': [u'Crash'], 'artist': [u'AFI'], 'title': [u'Beautiful Thieves'], 'encodedby': [u'iTunes 12.5.5.5'], 'composer': [u'AFI'], 'date': [u'2009'], 'tracknumber': [u'01'], 'discnumber': [u'1/1'], 'genre': [u'rock']}\n"
     ]
    }
   ],
   "source": [
    "print(audio)"
   ]
  },
  {
   "cell_type": "code",
   "execution_count": null,
   "metadata": {
    "collapsed": true
   },
   "outputs": [],
   "source": [
    "print()"
   ]
  }
 ],
 "metadata": {
  "kernelspec": {
   "display_name": "Python 2",
   "language": "python",
   "name": "python2"
  },
  "language_info": {
   "codemirror_mode": {
    "name": "ipython",
    "version": 2
   },
   "file_extension": ".py",
   "mimetype": "text/x-python",
   "name": "python",
   "nbconvert_exporter": "python",
   "pygments_lexer": "ipython2",
   "version": "2.7.13"
  }
 },
 "nbformat": 4,
 "nbformat_minor": 2
}
