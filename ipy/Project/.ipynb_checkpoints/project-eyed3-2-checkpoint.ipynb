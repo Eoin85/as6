{
 "cells": [
  {
   "cell_type": "code",
   "execution_count": 1,
   "metadata": {
    "collapsed": false,
    "scrolled": false
   },
   "outputs": [
    {
     "ename": "IOError",
     "evalue": "not a file: C:/Users/bart/Anaconda2/Lib/site-packages/eyed3/samples/music1",
     "output_type": "error",
     "traceback": [
      "\u001b[0;31m\u001b[0m",
      "\u001b[0;31mIOError\u001b[0mTraceback (most recent call last)",
      "\u001b[0;32m<ipython-input-1-5bb7d1fb3e06>\u001b[0m in \u001b[0;36m<module>\u001b[0;34m()\u001b[0m\n\u001b[1;32m     11\u001b[0m     \u001b[0mabs_location\u001b[0m \u001b[1;33m=\u001b[0m \u001b[0mos\u001b[0m\u001b[1;33m.\u001b[0m\u001b[0mpath\u001b[0m\u001b[1;33m.\u001b[0m\u001b[0mjoin\u001b[0m\u001b[1;33m(\u001b[0m\u001b[0mroot_folder\u001b[0m\u001b[1;33m,\u001b[0m \u001b[0mfile_name\u001b[0m\u001b[1;33m)\u001b[0m\u001b[1;33m\u001b[0m\u001b[0m\n\u001b[1;32m     12\u001b[0m \u001b[1;33m\u001b[0m\u001b[0m\n\u001b[0;32m---> 13\u001b[0;31m     \u001b[0msong_info\u001b[0m \u001b[1;33m=\u001b[0m \u001b[0meyed3\u001b[0m\u001b[1;33m.\u001b[0m\u001b[0mload\u001b[0m\u001b[1;33m(\u001b[0m\u001b[0mabs_location\u001b[0m\u001b[1;33m)\u001b[0m \u001b[1;31m#loads each file into eyed3 and assignes the return value to song_info\u001b[0m\u001b[1;33m\u001b[0m\u001b[0m\n\u001b[0m\u001b[1;32m     14\u001b[0m     \u001b[1;32mif\u001b[0m \u001b[0msong_info\u001b[0m \u001b[1;32mis\u001b[0m \u001b[0mNone\u001b[0m\u001b[1;33m:\u001b[0m\u001b[1;33m\u001b[0m\u001b[0m\n\u001b[1;32m     15\u001b[0m         \u001b[1;32mprint\u001b[0m \u001b[1;34m'Skippig %s'\u001b[0m \u001b[1;33m%\u001b[0m \u001b[0mabs_location\u001b[0m\u001b[1;33m\u001b[0m\u001b[0m\n",
      "\u001b[0;32mC:\\Users\\bart\\Anaconda2\\lib\\site-packages\\eyed3\\core.pyc\u001b[0m in \u001b[0;36mload\u001b[0;34m(path, tag_version)\u001b[0m\n\u001b[1;32m     77\u001b[0m     \u001b[1;32mif\u001b[0m \u001b[0mos\u001b[0m\u001b[1;33m.\u001b[0m\u001b[0mpath\u001b[0m\u001b[1;33m.\u001b[0m\u001b[0mexists\u001b[0m\u001b[1;33m(\u001b[0m\u001b[0mpath\u001b[0m\u001b[1;33m)\u001b[0m\u001b[1;33m:\u001b[0m\u001b[1;33m\u001b[0m\u001b[0m\n\u001b[1;32m     78\u001b[0m         \u001b[1;32mif\u001b[0m \u001b[1;32mnot\u001b[0m \u001b[0mos\u001b[0m\u001b[1;33m.\u001b[0m\u001b[0mpath\u001b[0m\u001b[1;33m.\u001b[0m\u001b[0misfile\u001b[0m\u001b[1;33m(\u001b[0m\u001b[0mpath\u001b[0m\u001b[1;33m)\u001b[0m\u001b[1;33m:\u001b[0m\u001b[1;33m\u001b[0m\u001b[0m\n\u001b[0;32m---> 79\u001b[0;31m             \u001b[1;32mraise\u001b[0m \u001b[0mIOError\u001b[0m\u001b[1;33m(\u001b[0m\u001b[1;34m\"not a file: %s\"\u001b[0m \u001b[1;33m%\u001b[0m \u001b[0mpath\u001b[0m\u001b[1;33m)\u001b[0m\u001b[1;33m\u001b[0m\u001b[0m\n\u001b[0m\u001b[1;32m     80\u001b[0m     \u001b[1;32melse\u001b[0m\u001b[1;33m:\u001b[0m\u001b[1;33m\u001b[0m\u001b[0m\n\u001b[1;32m     81\u001b[0m         \u001b[1;32mraise\u001b[0m \u001b[0mIOError\u001b[0m\u001b[1;33m(\u001b[0m\u001b[1;34m\"file not found: %s\"\u001b[0m \u001b[1;33m%\u001b[0m \u001b[0mpath\u001b[0m\u001b[1;33m)\u001b[0m\u001b[1;33m\u001b[0m\u001b[0m\n",
      "\u001b[0;31mIOError\u001b[0m: not a file: C:/Users/bart/Anaconda2/Lib/site-packages/eyed3/samples/music1"
     ]
    }
   ],
   "source": [
    "import os\n",
    "import eyed3\n",
    "\n",
    "root_folder = os.path.expanduser(\"C:/Users/bart/Anaconda2/Lib/site-packages/eyed3/samples/\")\n",
    "\n",
    "files = os.listdir(root_folder) #lists all files in specified directory\n",
    "count = 1\n",
    "for file_name in files:\n",
    "    #if file_name.endswith('.mp3'): continue #if file ends with \".mp3\" it continues onto the next line\n",
    "\n",
    "    abs_location = os.path.join(root_folder, file_name)\n",
    "\n",
    "    song_info = eyed3.load(abs_location) #loads each file into eyed3 and assignes the return value to song_info\n",
    "    if song_info is None:\n",
    "        print 'Skippig %s' % abs_location\n",
    "        continue\n",
    "    \n",
    "    folder =  u\"music%r\" % count\n",
    "    \n",
    "    os.mkdir(os.path.join(root_folder, folder))\n",
    "    \n",
    "    newp = os.path.join(folder, file_name)\n",
    "    os.rename(abs_location, os.path.join(root_folder, newp))\n",
    "    print song_info\n",
    "    print song_info.tag.artist\n",
    "    count += 1"
   ]
  },
  {
   "cell_type": "code",
   "execution_count": null,
   "metadata": {
    "collapsed": true
   },
   "outputs": [],
   "source": []
  }
 ],
 "metadata": {
  "kernelspec": {
   "display_name": "Python 2",
   "language": "python",
   "name": "python2"
  }
 },
 "nbformat": 4,
 "nbformat_minor": 2
}
